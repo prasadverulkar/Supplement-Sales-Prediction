{
 "cells": [
  {
   "cell_type": "code",
   "execution_count": 1,
   "id": "33f52cf8",
   "metadata": {},
   "outputs": [],
   "source": [
    "import pandas as pd\n",
    "import numpy as np\n",
    "import seaborn as sns\n",
    "import matplotlib.pyplot as plt\n",
    "\n",
    "from sklearn.preprocessing import LabelEncoder\n",
    "from sklearn.model_selection import train_test_split\n",
    "\n",
    "from sklearn.metrics import mean_squared_log_error, mean_squared_error\n",
    "import datetime\n",
    "import time\n",
    "\n",
    "import warnings\n",
    "warnings.filterwarnings(\"ignore\")\n",
    "pd.set_option('display.max_columns',None)\n",
    "pd.set_option('display.max_rows',None)"
   ]
  },
  {
   "cell_type": "code",
   "execution_count": 75,
   "id": "1b7b0332",
   "metadata": {},
   "outputs": [],
   "source": [
    "train = pd.read_csv(r\"E:\\Data science\\DataHack\\Analytics Vidhya\\Job_a_thon_170921\\TRAIN.csv\",parse_dates=['Date'])\n",
    "test = pd.read_csv(r\"E:\\Data science\\DataHack\\Analytics Vidhya\\Job_a_thon_170921\\TEST_FINAL.csv\",parse_dates=['Date'])"
   ]
  },
  {
   "cell_type": "code",
   "execution_count": 3,
   "id": "2749c8fe",
   "metadata": {},
   "outputs": [
    {
     "data": {
      "text/html": [
       "<div>\n",
       "<style scoped>\n",
       "    .dataframe tbody tr th:only-of-type {\n",
       "        vertical-align: middle;\n",
       "    }\n",
       "\n",
       "    .dataframe tbody tr th {\n",
       "        vertical-align: top;\n",
       "    }\n",
       "\n",
       "    .dataframe thead th {\n",
       "        text-align: right;\n",
       "    }\n",
       "</style>\n",
       "<table border=\"1\" class=\"dataframe\">\n",
       "  <thead>\n",
       "    <tr style=\"text-align: right;\">\n",
       "      <th></th>\n",
       "      <th>ID</th>\n",
       "      <th>Store_id</th>\n",
       "      <th>Store_Type</th>\n",
       "      <th>Location_Type</th>\n",
       "      <th>Region_Code</th>\n",
       "      <th>Date</th>\n",
       "      <th>Holiday</th>\n",
       "      <th>Discount</th>\n",
       "      <th>#Order</th>\n",
       "      <th>Sales</th>\n",
       "    </tr>\n",
       "  </thead>\n",
       "  <tbody>\n",
       "    <tr>\n",
       "      <th>0</th>\n",
       "      <td>T1000001</td>\n",
       "      <td>1</td>\n",
       "      <td>S1</td>\n",
       "      <td>L3</td>\n",
       "      <td>R1</td>\n",
       "      <td>2018-01-01</td>\n",
       "      <td>1</td>\n",
       "      <td>Yes</td>\n",
       "      <td>9</td>\n",
       "      <td>7011.84</td>\n",
       "    </tr>\n",
       "    <tr>\n",
       "      <th>1</th>\n",
       "      <td>T1000002</td>\n",
       "      <td>253</td>\n",
       "      <td>S4</td>\n",
       "      <td>L2</td>\n",
       "      <td>R1</td>\n",
       "      <td>2018-01-01</td>\n",
       "      <td>1</td>\n",
       "      <td>Yes</td>\n",
       "      <td>60</td>\n",
       "      <td>51789.12</td>\n",
       "    </tr>\n",
       "    <tr>\n",
       "      <th>2</th>\n",
       "      <td>T1000003</td>\n",
       "      <td>252</td>\n",
       "      <td>S3</td>\n",
       "      <td>L2</td>\n",
       "      <td>R1</td>\n",
       "      <td>2018-01-01</td>\n",
       "      <td>1</td>\n",
       "      <td>Yes</td>\n",
       "      <td>42</td>\n",
       "      <td>36868.20</td>\n",
       "    </tr>\n",
       "    <tr>\n",
       "      <th>3</th>\n",
       "      <td>T1000004</td>\n",
       "      <td>251</td>\n",
       "      <td>S2</td>\n",
       "      <td>L3</td>\n",
       "      <td>R1</td>\n",
       "      <td>2018-01-01</td>\n",
       "      <td>1</td>\n",
       "      <td>Yes</td>\n",
       "      <td>23</td>\n",
       "      <td>19715.16</td>\n",
       "    </tr>\n",
       "    <tr>\n",
       "      <th>4</th>\n",
       "      <td>T1000005</td>\n",
       "      <td>250</td>\n",
       "      <td>S2</td>\n",
       "      <td>L3</td>\n",
       "      <td>R4</td>\n",
       "      <td>2018-01-01</td>\n",
       "      <td>1</td>\n",
       "      <td>Yes</td>\n",
       "      <td>62</td>\n",
       "      <td>45614.52</td>\n",
       "    </tr>\n",
       "  </tbody>\n",
       "</table>\n",
       "</div>"
      ],
      "text/plain": [
       "         ID  Store_id Store_Type Location_Type Region_Code       Date  \\\n",
       "0  T1000001         1         S1            L3          R1 2018-01-01   \n",
       "1  T1000002       253         S4            L2          R1 2018-01-01   \n",
       "2  T1000003       252         S3            L2          R1 2018-01-01   \n",
       "3  T1000004       251         S2            L3          R1 2018-01-01   \n",
       "4  T1000005       250         S2            L3          R4 2018-01-01   \n",
       "\n",
       "   Holiday Discount  #Order     Sales  \n",
       "0        1      Yes       9   7011.84  \n",
       "1        1      Yes      60  51789.12  \n",
       "2        1      Yes      42  36868.20  \n",
       "3        1      Yes      23  19715.16  \n",
       "4        1      Yes      62  45614.52  "
      ]
     },
     "execution_count": 3,
     "metadata": {},
     "output_type": "execute_result"
    }
   ],
   "source": [
    "train.head()"
   ]
  },
  {
   "cell_type": "code",
   "execution_count": 4,
   "id": "31e6364d",
   "metadata": {},
   "outputs": [
    {
     "data": {
      "text/plain": [
       "(188340, 10)"
      ]
     },
     "execution_count": 4,
     "metadata": {},
     "output_type": "execute_result"
    }
   ],
   "source": [
    "train.shape"
   ]
  },
  {
   "cell_type": "code",
   "execution_count": 5,
   "id": "1b7e215a",
   "metadata": {},
   "outputs": [
    {
     "data": {
      "text/html": [
       "<div>\n",
       "<style scoped>\n",
       "    .dataframe tbody tr th:only-of-type {\n",
       "        vertical-align: middle;\n",
       "    }\n",
       "\n",
       "    .dataframe tbody tr th {\n",
       "        vertical-align: top;\n",
       "    }\n",
       "\n",
       "    .dataframe thead th {\n",
       "        text-align: right;\n",
       "    }\n",
       "</style>\n",
       "<table border=\"1\" class=\"dataframe\">\n",
       "  <thead>\n",
       "    <tr style=\"text-align: right;\">\n",
       "      <th></th>\n",
       "      <th>ID</th>\n",
       "      <th>Store_id</th>\n",
       "      <th>Store_Type</th>\n",
       "      <th>Location_Type</th>\n",
       "      <th>Region_Code</th>\n",
       "      <th>Date</th>\n",
       "      <th>Holiday</th>\n",
       "      <th>Discount</th>\n",
       "      <th>#Order</th>\n",
       "      <th>Sales</th>\n",
       "    </tr>\n",
       "  </thead>\n",
       "  <tbody>\n",
       "    <tr>\n",
       "      <th>count</th>\n",
       "      <td>188340</td>\n",
       "      <td>188340.000000</td>\n",
       "      <td>188340</td>\n",
       "      <td>188340</td>\n",
       "      <td>188340</td>\n",
       "      <td>188340</td>\n",
       "      <td>188340.000000</td>\n",
       "      <td>188340</td>\n",
       "      <td>188340.000000</td>\n",
       "      <td>188340.000000</td>\n",
       "    </tr>\n",
       "    <tr>\n",
       "      <th>unique</th>\n",
       "      <td>188340</td>\n",
       "      <td>NaN</td>\n",
       "      <td>4</td>\n",
       "      <td>5</td>\n",
       "      <td>4</td>\n",
       "      <td>516</td>\n",
       "      <td>NaN</td>\n",
       "      <td>2</td>\n",
       "      <td>NaN</td>\n",
       "      <td>NaN</td>\n",
       "    </tr>\n",
       "    <tr>\n",
       "      <th>top</th>\n",
       "      <td>T1181828</td>\n",
       "      <td>NaN</td>\n",
       "      <td>S1</td>\n",
       "      <td>L1</td>\n",
       "      <td>R1</td>\n",
       "      <td>2019-01-22 00:00:00</td>\n",
       "      <td>NaN</td>\n",
       "      <td>No</td>\n",
       "      <td>NaN</td>\n",
       "      <td>NaN</td>\n",
       "    </tr>\n",
       "    <tr>\n",
       "      <th>freq</th>\n",
       "      <td>1</td>\n",
       "      <td>NaN</td>\n",
       "      <td>88752</td>\n",
       "      <td>85140</td>\n",
       "      <td>63984</td>\n",
       "      <td>365</td>\n",
       "      <td>NaN</td>\n",
       "      <td>104051</td>\n",
       "      <td>NaN</td>\n",
       "      <td>NaN</td>\n",
       "    </tr>\n",
       "    <tr>\n",
       "      <th>first</th>\n",
       "      <td>NaN</td>\n",
       "      <td>NaN</td>\n",
       "      <td>NaN</td>\n",
       "      <td>NaN</td>\n",
       "      <td>NaN</td>\n",
       "      <td>2018-01-01 00:00:00</td>\n",
       "      <td>NaN</td>\n",
       "      <td>NaN</td>\n",
       "      <td>NaN</td>\n",
       "      <td>NaN</td>\n",
       "    </tr>\n",
       "    <tr>\n",
       "      <th>last</th>\n",
       "      <td>NaN</td>\n",
       "      <td>NaN</td>\n",
       "      <td>NaN</td>\n",
       "      <td>NaN</td>\n",
       "      <td>NaN</td>\n",
       "      <td>2019-05-31 00:00:00</td>\n",
       "      <td>NaN</td>\n",
       "      <td>NaN</td>\n",
       "      <td>NaN</td>\n",
       "      <td>NaN</td>\n",
       "    </tr>\n",
       "    <tr>\n",
       "      <th>mean</th>\n",
       "      <td>NaN</td>\n",
       "      <td>183.000000</td>\n",
       "      <td>NaN</td>\n",
       "      <td>NaN</td>\n",
       "      <td>NaN</td>\n",
       "      <td>NaN</td>\n",
       "      <td>0.131783</td>\n",
       "      <td>NaN</td>\n",
       "      <td>68.205692</td>\n",
       "      <td>42784.327982</td>\n",
       "    </tr>\n",
       "    <tr>\n",
       "      <th>std</th>\n",
       "      <td>NaN</td>\n",
       "      <td>105.366308</td>\n",
       "      <td>NaN</td>\n",
       "      <td>NaN</td>\n",
       "      <td>NaN</td>\n",
       "      <td>NaN</td>\n",
       "      <td>0.338256</td>\n",
       "      <td>NaN</td>\n",
       "      <td>30.467415</td>\n",
       "      <td>18456.708302</td>\n",
       "    </tr>\n",
       "    <tr>\n",
       "      <th>min</th>\n",
       "      <td>NaN</td>\n",
       "      <td>1.000000</td>\n",
       "      <td>NaN</td>\n",
       "      <td>NaN</td>\n",
       "      <td>NaN</td>\n",
       "      <td>NaN</td>\n",
       "      <td>0.000000</td>\n",
       "      <td>NaN</td>\n",
       "      <td>0.000000</td>\n",
       "      <td>0.000000</td>\n",
       "    </tr>\n",
       "    <tr>\n",
       "      <th>25%</th>\n",
       "      <td>NaN</td>\n",
       "      <td>92.000000</td>\n",
       "      <td>NaN</td>\n",
       "      <td>NaN</td>\n",
       "      <td>NaN</td>\n",
       "      <td>NaN</td>\n",
       "      <td>0.000000</td>\n",
       "      <td>NaN</td>\n",
       "      <td>48.000000</td>\n",
       "      <td>30426.000000</td>\n",
       "    </tr>\n",
       "    <tr>\n",
       "      <th>50%</th>\n",
       "      <td>NaN</td>\n",
       "      <td>183.000000</td>\n",
       "      <td>NaN</td>\n",
       "      <td>NaN</td>\n",
       "      <td>NaN</td>\n",
       "      <td>NaN</td>\n",
       "      <td>0.000000</td>\n",
       "      <td>NaN</td>\n",
       "      <td>63.000000</td>\n",
       "      <td>39678.000000</td>\n",
       "    </tr>\n",
       "    <tr>\n",
       "      <th>75%</th>\n",
       "      <td>NaN</td>\n",
       "      <td>274.000000</td>\n",
       "      <td>NaN</td>\n",
       "      <td>NaN</td>\n",
       "      <td>NaN</td>\n",
       "      <td>NaN</td>\n",
       "      <td>0.000000</td>\n",
       "      <td>NaN</td>\n",
       "      <td>82.000000</td>\n",
       "      <td>51909.000000</td>\n",
       "    </tr>\n",
       "    <tr>\n",
       "      <th>max</th>\n",
       "      <td>NaN</td>\n",
       "      <td>365.000000</td>\n",
       "      <td>NaN</td>\n",
       "      <td>NaN</td>\n",
       "      <td>NaN</td>\n",
       "      <td>NaN</td>\n",
       "      <td>1.000000</td>\n",
       "      <td>NaN</td>\n",
       "      <td>371.000000</td>\n",
       "      <td>247215.000000</td>\n",
       "    </tr>\n",
       "  </tbody>\n",
       "</table>\n",
       "</div>"
      ],
      "text/plain": [
       "              ID       Store_id Store_Type Location_Type Region_Code  \\\n",
       "count     188340  188340.000000     188340        188340      188340   \n",
       "unique    188340            NaN          4             5           4   \n",
       "top     T1181828            NaN         S1            L1          R1   \n",
       "freq           1            NaN      88752         85140       63984   \n",
       "first        NaN            NaN        NaN           NaN         NaN   \n",
       "last         NaN            NaN        NaN           NaN         NaN   \n",
       "mean         NaN     183.000000        NaN           NaN         NaN   \n",
       "std          NaN     105.366308        NaN           NaN         NaN   \n",
       "min          NaN       1.000000        NaN           NaN         NaN   \n",
       "25%          NaN      92.000000        NaN           NaN         NaN   \n",
       "50%          NaN     183.000000        NaN           NaN         NaN   \n",
       "75%          NaN     274.000000        NaN           NaN         NaN   \n",
       "max          NaN     365.000000        NaN           NaN         NaN   \n",
       "\n",
       "                       Date        Holiday Discount         #Order  \\\n",
       "count                188340  188340.000000   188340  188340.000000   \n",
       "unique                  516            NaN        2            NaN   \n",
       "top     2019-01-22 00:00:00            NaN       No            NaN   \n",
       "freq                    365            NaN   104051            NaN   \n",
       "first   2018-01-01 00:00:00            NaN      NaN            NaN   \n",
       "last    2019-05-31 00:00:00            NaN      NaN            NaN   \n",
       "mean                    NaN       0.131783      NaN      68.205692   \n",
       "std                     NaN       0.338256      NaN      30.467415   \n",
       "min                     NaN       0.000000      NaN       0.000000   \n",
       "25%                     NaN       0.000000      NaN      48.000000   \n",
       "50%                     NaN       0.000000      NaN      63.000000   \n",
       "75%                     NaN       0.000000      NaN      82.000000   \n",
       "max                     NaN       1.000000      NaN     371.000000   \n",
       "\n",
       "                Sales  \n",
       "count   188340.000000  \n",
       "unique            NaN  \n",
       "top               NaN  \n",
       "freq              NaN  \n",
       "first             NaN  \n",
       "last              NaN  \n",
       "mean     42784.327982  \n",
       "std      18456.708302  \n",
       "min          0.000000  \n",
       "25%      30426.000000  \n",
       "50%      39678.000000  \n",
       "75%      51909.000000  \n",
       "max     247215.000000  "
      ]
     },
     "execution_count": 5,
     "metadata": {},
     "output_type": "execute_result"
    }
   ],
   "source": [
    "train.describe(include = 'all')"
   ]
  },
  {
   "cell_type": "code",
   "execution_count": 6,
   "id": "291e22a9",
   "metadata": {},
   "outputs": [
    {
     "name": "stdout",
     "output_type": "stream",
     "text": [
      "<class 'pandas.core.frame.DataFrame'>\n",
      "RangeIndex: 188340 entries, 0 to 188339\n",
      "Data columns (total 10 columns):\n",
      " #   Column         Non-Null Count   Dtype         \n",
      "---  ------         --------------   -----         \n",
      " 0   ID             188340 non-null  object        \n",
      " 1   Store_id       188340 non-null  int64         \n",
      " 2   Store_Type     188340 non-null  object        \n",
      " 3   Location_Type  188340 non-null  object        \n",
      " 4   Region_Code    188340 non-null  object        \n",
      " 5   Date           188340 non-null  datetime64[ns]\n",
      " 6   Holiday        188340 non-null  int64         \n",
      " 7   Discount       188340 non-null  object        \n",
      " 8   #Order         188340 non-null  int64         \n",
      " 9   Sales          188340 non-null  float64       \n",
      "dtypes: datetime64[ns](1), float64(1), int64(3), object(5)\n",
      "memory usage: 14.4+ MB\n"
     ]
    }
   ],
   "source": [
    "train.info()"
   ]
  },
  {
   "cell_type": "code",
   "execution_count": 7,
   "id": "24ca25f3",
   "metadata": {},
   "outputs": [
    {
     "data": {
      "text/html": [
       "<div>\n",
       "<style scoped>\n",
       "    .dataframe tbody tr th:only-of-type {\n",
       "        vertical-align: middle;\n",
       "    }\n",
       "\n",
       "    .dataframe tbody tr th {\n",
       "        vertical-align: top;\n",
       "    }\n",
       "\n",
       "    .dataframe thead th {\n",
       "        text-align: right;\n",
       "    }\n",
       "</style>\n",
       "<table border=\"1\" class=\"dataframe\">\n",
       "  <thead>\n",
       "    <tr style=\"text-align: right;\">\n",
       "      <th></th>\n",
       "      <th>ID</th>\n",
       "      <th>Store_id</th>\n",
       "      <th>Store_Type</th>\n",
       "      <th>Location_Type</th>\n",
       "      <th>Region_Code</th>\n",
       "      <th>Date</th>\n",
       "      <th>Holiday</th>\n",
       "      <th>Discount</th>\n",
       "    </tr>\n",
       "  </thead>\n",
       "  <tbody>\n",
       "    <tr>\n",
       "      <th>0</th>\n",
       "      <td>T1188341</td>\n",
       "      <td>171</td>\n",
       "      <td>S4</td>\n",
       "      <td>L2</td>\n",
       "      <td>R3</td>\n",
       "      <td>2019-06-01</td>\n",
       "      <td>0</td>\n",
       "      <td>No</td>\n",
       "    </tr>\n",
       "    <tr>\n",
       "      <th>1</th>\n",
       "      <td>T1188342</td>\n",
       "      <td>172</td>\n",
       "      <td>S1</td>\n",
       "      <td>L1</td>\n",
       "      <td>R1</td>\n",
       "      <td>2019-06-01</td>\n",
       "      <td>0</td>\n",
       "      <td>No</td>\n",
       "    </tr>\n",
       "    <tr>\n",
       "      <th>2</th>\n",
       "      <td>T1188343</td>\n",
       "      <td>173</td>\n",
       "      <td>S4</td>\n",
       "      <td>L2</td>\n",
       "      <td>R1</td>\n",
       "      <td>2019-06-01</td>\n",
       "      <td>0</td>\n",
       "      <td>No</td>\n",
       "    </tr>\n",
       "    <tr>\n",
       "      <th>3</th>\n",
       "      <td>T1188344</td>\n",
       "      <td>174</td>\n",
       "      <td>S1</td>\n",
       "      <td>L1</td>\n",
       "      <td>R4</td>\n",
       "      <td>2019-06-01</td>\n",
       "      <td>0</td>\n",
       "      <td>No</td>\n",
       "    </tr>\n",
       "    <tr>\n",
       "      <th>4</th>\n",
       "      <td>T1188345</td>\n",
       "      <td>170</td>\n",
       "      <td>S1</td>\n",
       "      <td>L1</td>\n",
       "      <td>R2</td>\n",
       "      <td>2019-06-01</td>\n",
       "      <td>0</td>\n",
       "      <td>No</td>\n",
       "    </tr>\n",
       "  </tbody>\n",
       "</table>\n",
       "</div>"
      ],
      "text/plain": [
       "         ID  Store_id Store_Type Location_Type Region_Code       Date  \\\n",
       "0  T1188341       171         S4            L2          R3 2019-06-01   \n",
       "1  T1188342       172         S1            L1          R1 2019-06-01   \n",
       "2  T1188343       173         S4            L2          R1 2019-06-01   \n",
       "3  T1188344       174         S1            L1          R4 2019-06-01   \n",
       "4  T1188345       170         S1            L1          R2 2019-06-01   \n",
       "\n",
       "   Holiday Discount  \n",
       "0        0       No  \n",
       "1        0       No  \n",
       "2        0       No  \n",
       "3        0       No  \n",
       "4        0       No  "
      ]
     },
     "execution_count": 7,
     "metadata": {},
     "output_type": "execute_result"
    }
   ],
   "source": [
    "test.head()"
   ]
  },
  {
   "cell_type": "code",
   "execution_count": 8,
   "id": "3ed8073b",
   "metadata": {},
   "outputs": [
    {
     "data": {
      "text/plain": [
       "(22265, 8)"
      ]
     },
     "execution_count": 8,
     "metadata": {},
     "output_type": "execute_result"
    }
   ],
   "source": [
    "test.shape"
   ]
  },
  {
   "cell_type": "code",
   "execution_count": 9,
   "id": "7b1dcb9a",
   "metadata": {},
   "outputs": [
    {
     "name": "stdout",
     "output_type": "stream",
     "text": [
      "<class 'pandas.core.frame.DataFrame'>\n",
      "RangeIndex: 22265 entries, 0 to 22264\n",
      "Data columns (total 8 columns):\n",
      " #   Column         Non-Null Count  Dtype         \n",
      "---  ------         --------------  -----         \n",
      " 0   ID             22265 non-null  object        \n",
      " 1   Store_id       22265 non-null  int64         \n",
      " 2   Store_Type     22265 non-null  object        \n",
      " 3   Location_Type  22265 non-null  object        \n",
      " 4   Region_Code    22265 non-null  object        \n",
      " 5   Date           22265 non-null  datetime64[ns]\n",
      " 6   Holiday        22265 non-null  int64         \n",
      " 7   Discount       22265 non-null  object        \n",
      "dtypes: datetime64[ns](1), int64(2), object(5)\n",
      "memory usage: 1.4+ MB\n"
     ]
    }
   ],
   "source": [
    "test.info()"
   ]
  },
  {
   "cell_type": "markdown",
   "id": "a0f565de",
   "metadata": {},
   "source": [
    "## 1. Data Preprocessing"
   ]
  },
  {
   "cell_type": "markdown",
   "id": "aa74b0fd",
   "metadata": {},
   "source": [
    "### 1.1 Missing Values"
   ]
  },
  {
   "cell_type": "code",
   "execution_count": 11,
   "id": "677c8414",
   "metadata": {},
   "outputs": [
    {
     "data": {
      "text/plain": [
       "ID               0\n",
       "Store_id         0\n",
       "Store_Type       0\n",
       "Location_Type    0\n",
       "Region_Code      0\n",
       "Date             0\n",
       "Holiday          0\n",
       "Discount         0\n",
       "#Order           0\n",
       "Sales            0\n",
       "dtype: int64"
      ]
     },
     "execution_count": 11,
     "metadata": {},
     "output_type": "execute_result"
    }
   ],
   "source": [
    "# 0 missing Values\n",
    "train.isnull().sum()"
   ]
  },
  {
   "cell_type": "code",
   "execution_count": 12,
   "id": "c22fc8c9",
   "metadata": {},
   "outputs": [
    {
     "data": {
      "text/plain": [
       "ID               0\n",
       "Store_id         0\n",
       "Store_Type       0\n",
       "Location_Type    0\n",
       "Region_Code      0\n",
       "Date             0\n",
       "Holiday          0\n",
       "Discount         0\n",
       "dtype: int64"
      ]
     },
     "execution_count": 12,
     "metadata": {},
     "output_type": "execute_result"
    }
   ],
   "source": [
    "# 0 missing values\n",
    "test.isnull().sum()"
   ]
  },
  {
   "cell_type": "markdown",
   "id": "231b132e",
   "metadata": {},
   "source": [
    "### 1.2 Check Train-Test Distribution"
   ]
  },
  {
   "cell_type": "code",
   "execution_count": 13,
   "id": "532efcf5",
   "metadata": {},
   "outputs": [
    {
     "data": {
      "text/plain": [
       "(365,)"
      ]
     },
     "execution_count": 13,
     "metadata": {},
     "output_type": "execute_result"
    }
   ],
   "source": [
    "train.Store_id.unique().shape # 365 unique stores"
   ]
  },
  {
   "cell_type": "code",
   "execution_count": 14,
   "id": "d6fe96e9",
   "metadata": {},
   "outputs": [
    {
     "data": {
      "text/plain": [
       "(365,)"
      ]
     },
     "execution_count": 14,
     "metadata": {},
     "output_type": "execute_result"
    }
   ],
   "source": [
    "test.Store_id.unique().shape"
   ]
  },
  {
   "cell_type": "code",
   "execution_count": 15,
   "id": "07e23533",
   "metadata": {},
   "outputs": [
    {
     "data": {
      "text/plain": [
       "(S1    0.471233\n",
       " S4    0.243836\n",
       " S2    0.153425\n",
       " S3    0.131507\n",
       " Name: Store_Type, dtype: float64,\n",
       " S1    0.471233\n",
       " S4    0.243836\n",
       " S2    0.153425\n",
       " S3    0.131507\n",
       " Name: Store_Type, dtype: float64)"
      ]
     },
     "execution_count": 15,
     "metadata": {},
     "output_type": "execute_result"
    }
   ],
   "source": [
    "train.Store_Type.value_counts(normalize = True), test.Store_Type.value_counts(normalize = True)"
   ]
  },
  {
   "cell_type": "code",
   "execution_count": 16,
   "id": "a94029c8",
   "metadata": {},
   "outputs": [
    {
     "data": {
      "text/plain": [
       "(L1    0.452055\n",
       " L2    0.257534\n",
       " L3    0.158904\n",
       " L5    0.073973\n",
       " L4    0.057534\n",
       " Name: Location_Type, dtype: float64,\n",
       " L1    0.452055\n",
       " L2    0.257534\n",
       " L3    0.158904\n",
       " L5    0.073973\n",
       " L4    0.057534\n",
       " Name: Location_Type, dtype: float64)"
      ]
     },
     "execution_count": 16,
     "metadata": {},
     "output_type": "execute_result"
    }
   ],
   "source": [
    "train.Location_Type.value_counts(normalize = True), test.Location_Type.value_counts(normalize = True)"
   ]
  },
  {
   "cell_type": "code",
   "execution_count": 17,
   "id": "6daaccc0",
   "metadata": {},
   "outputs": [
    {
     "data": {
      "text/plain": [
       "(R1    0.339726\n",
       " R2    0.287671\n",
       " R3    0.235616\n",
       " R4    0.136986\n",
       " Name: Region_Code, dtype: float64,\n",
       " R1    0.339726\n",
       " R2    0.287671\n",
       " R3    0.235616\n",
       " R4    0.136986\n",
       " Name: Region_Code, dtype: float64)"
      ]
     },
     "execution_count": 17,
     "metadata": {},
     "output_type": "execute_result"
    }
   ],
   "source": [
    "train.Region_Code.value_counts(normalize = True) ,test.Region_Code.value_counts(normalize = True)"
   ]
  },
  {
   "cell_type": "code",
   "execution_count": 18,
   "id": "9a050445",
   "metadata": {},
   "outputs": [
    {
     "data": {
      "text/plain": [
       "(0    0.868217\n",
       " 1    0.131783\n",
       " Name: Holiday, dtype: float64,\n",
       " 0    0.967213\n",
       " 1    0.032787\n",
       " Name: Holiday, dtype: float64)"
      ]
     },
     "execution_count": 18,
     "metadata": {},
     "output_type": "execute_result"
    }
   ],
   "source": [
    "train.Holiday.value_counts(normalize = True), test.Holiday.value_counts(normalize = True)"
   ]
  },
  {
   "cell_type": "code",
   "execution_count": 19,
   "id": "2863e213",
   "metadata": {},
   "outputs": [
    {
     "data": {
      "text/plain": [
       "(No     0.552464\n",
       " Yes    0.447536\n",
       " Name: Discount, dtype: float64,\n",
       " No     0.573681\n",
       " Yes    0.426319\n",
       " Name: Discount, dtype: float64)"
      ]
     },
     "execution_count": 19,
     "metadata": {},
     "output_type": "execute_result"
    }
   ],
   "source": [
    "train.Discount.value_counts(normalize = True), test.Discount.value_counts(normalize = True)"
   ]
  },
  {
   "cell_type": "markdown",
   "id": "a959bcc0",
   "metadata": {},
   "source": [
    "### 1.3 Check for Duplicates"
   ]
  },
  {
   "cell_type": "code",
   "execution_count": 20,
   "id": "65fb3419",
   "metadata": {},
   "outputs": [
    {
     "data": {
      "text/plain": [
       "0"
      ]
     },
     "execution_count": 20,
     "metadata": {},
     "output_type": "execute_result"
    }
   ],
   "source": [
    "# 0 duplicates in train data.\n",
    "train[train.duplicated()].shape[0]"
   ]
  },
  {
   "cell_type": "code",
   "execution_count": 21,
   "id": "526117b6",
   "metadata": {},
   "outputs": [
    {
     "data": {
      "text/plain": [
       "0"
      ]
     },
     "execution_count": 21,
     "metadata": {},
     "output_type": "execute_result"
    }
   ],
   "source": [
    "# 0 duplicates in test data.\n",
    "test[test.duplicated()].shape[0]"
   ]
  },
  {
   "cell_type": "markdown",
   "id": "8df946c6",
   "metadata": {},
   "source": [
    "### 1.4 Check for Outliers and Normal Distribution of sales & Orders column"
   ]
  },
  {
   "cell_type": "code",
   "execution_count": 22,
   "id": "8e37bebc",
   "metadata": {},
   "outputs": [
    {
     "data": {
      "text/plain": [
       "<AxesSubplot:xlabel='Sales', ylabel='Count'>"
      ]
     },
     "execution_count": 22,
     "metadata": {},
     "output_type": "execute_result"
    },
    {
     "data": {
      "image/png": "[encoded data removed]",
      "text/plain": [
       "<Figure size 432x288 with 1 Axes>"
      ]
     },
     "metadata": {
      "needs_background": "light"
     },
     "output_type": "display_data"
    }
   ],
   "source": [
    "sns.histplot(train.Sales) # 2 peaks can be seen in the distribution"
   ]
  },
  {
   "cell_type": "code",
   "execution_count": 23,
   "id": "5ed9cadc",
   "metadata": {},
   "outputs": [
    {
     "data": {
      "text/plain": [
       "<AxesSubplot:xlabel='Sales', ylabel='Count'>"
      ]
     },
     "execution_count": 23,
     "metadata": {},
     "output_type": "execute_result"
    },
    {
     "data": {
      "image/png": "[encoded data removed]",
      "text/plain": [
       "<Figure size 432x288 with 1 Axes>"
      ]
     },
     "metadata": {
      "needs_background": "light"
     },
     "output_type": "display_data"
    }
   ],
   "source": [
    "sns.histplot(np.log1p(train.Sales))"
   ]
  },
  {
   "cell_type": "code",
   "execution_count": 387,
   "id": "850824b0",
   "metadata": {},
   "outputs": [
    {
     "name": "stdout",
     "output_type": "stream",
     "text": [
      "84133.5\n"
     ]
    }
   ],
   "source": [
    "IQR = np.quantile(train.Sales , 0.75) - np.quantile(train.Sales , 0.25)\n",
    "print(np.quantile(train.Sales , 0.75) + 1.5*IQR)"
   ]
  },
  {
   "cell_type": "code",
   "execution_count": 388,
   "id": "92d45bb1",
   "metadata": {},
   "outputs": [
    {
     "data": {
      "text/plain": [
       "5843"
      ]
     },
     "execution_count": 388,
     "metadata": {},
     "output_type": "execute_result"
    }
   ],
   "source": [
    "len(train[train['Sales'] > 84133.5])"
   ]
  },
  {
   "cell_type": "code",
   "execution_count": 389,
   "id": "8315ac3d",
   "metadata": {},
   "outputs": [
    {
     "data": {
      "text/plain": [
       "0.031023680577678667"
      ]
     },
     "execution_count": 389,
     "metadata": {},
     "output_type": "execute_result"
    }
   ],
   "source": [
    "5843/train.shape[0]"
   ]
  },
  {
   "cell_type": "code",
   "execution_count": 23,
   "id": "5915cf51",
   "metadata": {},
   "outputs": [
    {
     "data": {
      "text/plain": [
       "<AxesSubplot:xlabel='Sales'>"
      ]
     },
     "execution_count": 23,
     "metadata": {},
     "output_type": "execute_result"
    },
    {
     "data": {
      "image/png": "[encoded data removed]",
      "text/plain": [
       "<Figure size 432x288 with 1 Axes>"
      ]
     },
     "metadata": {
      "needs_background": "light"
     },
     "output_type": "display_data"
    }
   ],
   "source": [
    "sns.boxplot(train.Sales)"
   ]
  },
  {
   "cell_type": "code",
   "execution_count": 24,
   "id": "09bbfdf0",
   "metadata": {},
   "outputs": [
    {
     "data": {
      "text/plain": [
       "<AxesSubplot:xlabel='Sales'>"
      ]
     },
     "execution_count": 24,
     "metadata": {},
     "output_type": "execute_result"
    },
    {
     "data": {
      "image/png": "[encoded data removed]",
      "text/plain": [
       "<Figure size 432x288 with 1 Axes>"
      ]
     },
     "metadata": {
      "needs_background": "light"
     },
     "output_type": "display_data"
    }
   ],
   "source": [
    "sns.boxplot(np.log1p(train.Sales))"
   ]
  },
  {
   "cell_type": "code",
   "execution_count": 25,
   "id": "d53dfd7a",
   "metadata": {},
   "outputs": [
    {
     "data": {
      "text/plain": [
       "<AxesSubplot:xlabel='#Order', ylabel='Count'>"
      ]
     },
     "execution_count": 25,
     "metadata": {},
     "output_type": "execute_result"
    },
    {
     "data": {
      "image/png": "[encoded data removed]",
      "text/plain": [
       "<Figure size 432x288 with 1 Axes>"
      ]
     },
     "metadata": {
      "needs_background": "light"
     },
     "output_type": "display_data"
    }
   ],
   "source": [
    "sns.histplot(train['#Order'])"
   ]
  },
  {
   "cell_type": "code",
   "execution_count": 391,
   "id": "e7b3322e",
   "metadata": {},
   "outputs": [
    {
     "name": "stdout",
     "output_type": "stream",
     "text": [
      "133.0\n"
     ]
    }
   ],
   "source": [
    "IQR = np.quantile(train['#Order'] , 0.75) - np.quantile(train['#Order'] , 0.25)\n",
    "print(np.quantile(train['#Order'] , 0.75) + 1.5*IQR)"
   ]
  },
  {
   "cell_type": "code",
   "execution_count": 393,
   "id": "92502626",
   "metadata": {},
   "outputs": [
    {
     "data": {
      "text/plain": [
       "7089"
      ]
     },
     "execution_count": 393,
     "metadata": {},
     "output_type": "execute_result"
    }
   ],
   "source": [
    "len(train[train['#Order'] > 133.0])"
   ]
  },
  {
   "cell_type": "code",
   "execution_count": 394,
   "id": "5a169f38",
   "metadata": {},
   "outputs": [
    {
     "data": {
      "text/plain": [
       "0.03763937559732399"
      ]
     },
     "execution_count": 394,
     "metadata": {},
     "output_type": "execute_result"
    }
   ],
   "source": [
    "7089/train['#Order'].shape[0]"
   ]
  },
  {
   "cell_type": "code",
   "execution_count": 26,
   "id": "737bdde5",
   "metadata": {},
   "outputs": [
    {
     "data": {
      "text/plain": [
       "<AxesSubplot:xlabel='#Order'>"
      ]
     },
     "execution_count": 26,
     "metadata": {},
     "output_type": "execute_result"
    },
    {
     "data": {
      "image/png": "[encoded data removed]",
      "text/plain": [
       "<Figure size 432x288 with 1 Axes>"
      ]
     },
     "metadata": {
      "needs_background": "light"
     },
     "output_type": "display_data"
    }
   ],
   "source": [
    "sns.boxplot(train['#Order'])"
   ]
  },
  {
   "cell_type": "code",
   "execution_count": 27,
   "id": "d747a827",
   "metadata": {},
   "outputs": [
    {
     "data": {
      "text/plain": [
       "<AxesSubplot:xlabel='#Order'>"
      ]
     },
     "execution_count": 27,
     "metadata": {},
     "output_type": "execute_result"
    },
    {
     "data": {
      "image/png": "[encoded data removed]",
      "text/plain": [
       "<Figure size 432x288 with 1 Axes>"
      ]
     },
     "metadata": {
      "needs_background": "light"
     },
     "output_type": "display_data"
    }
   ],
   "source": [
    "sns.boxplot(np.log1p(train['#Order']))"
   ]
  },
  {
   "cell_type": "markdown",
   "id": "ad88159d",
   "metadata": {},
   "source": [
    "## Feature Engineering"
   ]
  },
  {
   "cell_type": "code",
   "execution_count": 24,
   "id": "cc4e9444",
   "metadata": {},
   "outputs": [],
   "source": [
    "# Creating Features from date column.\n",
    "\n",
    "def create_date_features(df):\n",
    "    df['Year'] =  df['Date'].dt.year\n",
    "    df['Month'] =  df['Date'].dt.month\n",
    "    df['Day'] =  df['Date'].dt.day\n",
    "    df['Dayofweek'] =  df['Date'].dt.dayofweek\n",
    "    df['DayOfyear'] =  df['Date'].dt.dayofyear\n",
    "    df['Week'] =  df['Date'].dt.week \n",
    "    df['Quarter'] =  df['Date'].dt.quarter\n",
    "    df['Is_week_start'] = np.where(df['Dayofweek'].isin([0]),1,0)\n",
    "    df['Is_month_start'] =  np.where(df['Date'].dt.is_month_start,1,0)\n",
    "    df['Is_month_end'] =  np.where(df['Date'].dt.is_month_end,1,0) \n",
    "    df['Is_quarter_start'] =  np.where(df['Date'].dt.is_quarter_start,1,0)\n",
    "    df['Is_quarter_end'] =  np.where(df['Date'].dt.is_quarter_end,1,0) \n",
    "    df['Is_year_start'] =  np.where(df['Date'].dt.is_year_start,1,0) \n",
    "    df['Is_year_end'] =  np.where(df['Date'].dt.is_year_end,1,0)\n",
    "    df['Semester'] = np.where(df['Quarter'].isin([1,2]),1,2)   \n",
    "    df['Is_weekday'] = np.where(df['Dayofweek'].isin([0,1,2,3,4]),1,0)\n",
    "    df['Days_in_month'] =  df['Date'].dt.days_in_month\n",
    "    \n",
    "    return df"
   ]
  },
  {
   "cell_type": "code",
   "execution_count": 25,
   "id": "a90b3db6",
   "metadata": {},
   "outputs": [],
   "source": [
    "train = create_date_features(train)\n",
    "test = create_date_features(test)"
   ]
  },
  {
   "cell_type": "code",
   "execution_count": 26,
   "id": "0479acfc",
   "metadata": {},
   "outputs": [
    {
     "data": {
      "text/plain": [
       "<matplotlib.legend.Legend at 0x1e2dfde5388>"
      ]
     },
     "execution_count": 26,
     "metadata": {},
     "output_type": "execute_result"
    },
    {
     "data": {
      "image/png": "[encoded data removed]",
      "text/plain": [
       "<Figure size 1512x504 with 1 Axes>"
      ]
     },
     "metadata": {
      "needs_background": "light"
     },
     "output_type": "display_data"
    }
   ],
   "source": [
    "Daily_Sales_2018 = train[train.Year == 2018].groupby('DayOfyear')['Sales'].median()\n",
    "Daily_Sales_2019 = train[train.Year == 2019].groupby('DayOfyear')['Sales'].median()\n",
    "\n",
    "plt.figure(figsize=(21,7))\n",
    "plt.plot(Daily_Sales_2018.index, Daily_Sales_2018.values)\n",
    "plt.plot(Daily_Sales_2019.index, Daily_Sales_2019.values)\n",
    "\n",
    "plt.xlabel('Day of Year', fontsize=15)\n",
    "plt.ylabel('Sales', fontsize=15)\n",
    "plt.xticks(fontsize=20)\n",
    "plt.yticks( fontsize=20)\n",
    "plt.legend(('2018','2019'),prop= {'size':15})"
   ]
  },
  {
   "cell_type": "code",
   "execution_count": 27,
   "id": "99e3b96a",
   "metadata": {},
   "outputs": [
    {
     "data": {
      "text/plain": [
       "<matplotlib.legend.Legend at 0x1e2de8d7fc8>"
      ]
     },
     "execution_count": 27,
     "metadata": {},
     "output_type": "execute_result"
    },
    {
     "data": {
      "image/png": "[encoded data removed]",
      "text/plain": [
       "<Figure size 1584x576 with 1 Axes>"
      ]
     },
     "metadata": {
      "needs_background": "light"
     },
     "output_type": "display_data"
    }
   ],
   "source": [
    "Daily_Sales_2018 = train[train.Year == 2018].groupby('Week')['#Order'].sum()\n",
    "Daily_Sales_2019 = train[train.Year == 2019].groupby('Week')['#Order'].sum()\n",
    "\n",
    "plt.figure(figsize=(22,8))\n",
    "plt.plot(Daily_Sales_2018.index, Daily_Sales_2018.values)\n",
    "plt.plot(Daily_Sales_2019.index, Daily_Sales_2019.values)\n",
    "\n",
    "plt.xlabel('Week', fontsize=15)\n",
    "plt.ylabel('Sales', fontsize=15)\n",
    "plt.xticks(fontsize=20)\n",
    "plt.yticks( fontsize=20)\n",
    "plt.legend(('2018','2019'),prop= {'size':15})"
   ]
  },
  {
   "cell_type": "code",
   "execution_count": 28,
   "id": "11424ad2",
   "metadata": {},
   "outputs": [
    {
     "data": {
      "text/html": [
       "<div>\n",
       "<style scoped>\n",
       "    .dataframe tbody tr th:only-of-type {\n",
       "        vertical-align: middle;\n",
       "    }\n",
       "\n",
       "    .dataframe tbody tr th {\n",
       "        vertical-align: top;\n",
       "    }\n",
       "\n",
       "    .dataframe thead th {\n",
       "        text-align: right;\n",
       "    }\n",
       "</style>\n",
       "<table border=\"1\" class=\"dataframe\">\n",
       "  <thead>\n",
       "    <tr style=\"text-align: right;\">\n",
       "      <th></th>\n",
       "      <th>ID</th>\n",
       "      <th>Store_id</th>\n",
       "      <th>Store_Type</th>\n",
       "      <th>Location_Type</th>\n",
       "      <th>Region_Code</th>\n",
       "      <th>Date</th>\n",
       "      <th>Holiday</th>\n",
       "      <th>Discount</th>\n",
       "      <th>#Order</th>\n",
       "      <th>Sales</th>\n",
       "      <th>Year</th>\n",
       "      <th>Month</th>\n",
       "      <th>Day</th>\n",
       "      <th>Dayofweek</th>\n",
       "      <th>DayOfyear</th>\n",
       "      <th>Week</th>\n",
       "      <th>Quarter</th>\n",
       "      <th>Is_week_start</th>\n",
       "      <th>Is_month_start</th>\n",
       "      <th>Is_month_end</th>\n",
       "      <th>Is_quarter_start</th>\n",
       "      <th>Is_quarter_end</th>\n",
       "      <th>Is_year_start</th>\n",
       "      <th>Is_year_end</th>\n",
       "      <th>Semester</th>\n",
       "      <th>Is_weekday</th>\n",
       "      <th>Days_in_month</th>\n",
       "    </tr>\n",
       "  </thead>\n",
       "  <tbody>\n",
       "    <tr>\n",
       "      <th>0</th>\n",
       "      <td>T1000001</td>\n",
       "      <td>1</td>\n",
       "      <td>S1</td>\n",
       "      <td>L3</td>\n",
       "      <td>R1</td>\n",
       "      <td>2018-01-01</td>\n",
       "      <td>1</td>\n",
       "      <td>Yes</td>\n",
       "      <td>9</td>\n",
       "      <td>7011.84</td>\n",
       "      <td>2018</td>\n",
       "      <td>1</td>\n",
       "      <td>1</td>\n",
       "      <td>0</td>\n",
       "      <td>1</td>\n",
       "      <td>1</td>\n",
       "      <td>1</td>\n",
       "      <td>1</td>\n",
       "      <td>1</td>\n",
       "      <td>0</td>\n",
       "      <td>1</td>\n",
       "      <td>0</td>\n",
       "      <td>1</td>\n",
       "      <td>0</td>\n",
       "      <td>1</td>\n",
       "      <td>1</td>\n",
       "      <td>31</td>\n",
       "    </tr>\n",
       "    <tr>\n",
       "      <th>1</th>\n",
       "      <td>T1000002</td>\n",
       "      <td>253</td>\n",
       "      <td>S4</td>\n",
       "      <td>L2</td>\n",
       "      <td>R1</td>\n",
       "      <td>2018-01-01</td>\n",
       "      <td>1</td>\n",
       "      <td>Yes</td>\n",
       "      <td>60</td>\n",
       "      <td>51789.12</td>\n",
       "      <td>2018</td>\n",
       "      <td>1</td>\n",
       "      <td>1</td>\n",
       "      <td>0</td>\n",
       "      <td>1</td>\n",
       "      <td>1</td>\n",
       "      <td>1</td>\n",
       "      <td>1</td>\n",
       "      <td>1</td>\n",
       "      <td>0</td>\n",
       "      <td>1</td>\n",
       "      <td>0</td>\n",
       "      <td>1</td>\n",
       "      <td>0</td>\n",
       "      <td>1</td>\n",
       "      <td>1</td>\n",
       "      <td>31</td>\n",
       "    </tr>\n",
       "    <tr>\n",
       "      <th>2</th>\n",
       "      <td>T1000003</td>\n",
       "      <td>252</td>\n",
       "      <td>S3</td>\n",
       "      <td>L2</td>\n",
       "      <td>R1</td>\n",
       "      <td>2018-01-01</td>\n",
       "      <td>1</td>\n",
       "      <td>Yes</td>\n",
       "      <td>42</td>\n",
       "      <td>36868.20</td>\n",
       "      <td>2018</td>\n",
       "      <td>1</td>\n",
       "      <td>1</td>\n",
       "      <td>0</td>\n",
       "      <td>1</td>\n",
       "      <td>1</td>\n",
       "      <td>1</td>\n",
       "      <td>1</td>\n",
       "      <td>1</td>\n",
       "      <td>0</td>\n",
       "      <td>1</td>\n",
       "      <td>0</td>\n",
       "      <td>1</td>\n",
       "      <td>0</td>\n",
       "      <td>1</td>\n",
       "      <td>1</td>\n",
       "      <td>31</td>\n",
       "    </tr>\n",
       "    <tr>\n",
       "      <th>3</th>\n",
       "      <td>T1000004</td>\n",
       "      <td>251</td>\n",
       "      <td>S2</td>\n",
       "      <td>L3</td>\n",
       "      <td>R1</td>\n",
       "      <td>2018-01-01</td>\n",
       "      <td>1</td>\n",
       "      <td>Yes</td>\n",
       "      <td>23</td>\n",
       "      <td>19715.16</td>\n",
       "      <td>2018</td>\n",
       "      <td>1</td>\n",
       "      <td>1</td>\n",
       "      <td>0</td>\n",
       "      <td>1</td>\n",
       "      <td>1</td>\n",
       "      <td>1</td>\n",
       "      <td>1</td>\n",
       "      <td>1</td>\n",
       "      <td>0</td>\n",
       "      <td>1</td>\n",
       "      <td>0</td>\n",
       "      <td>1</td>\n",
       "      <td>0</td>\n",
       "      <td>1</td>\n",
       "      <td>1</td>\n",
       "      <td>31</td>\n",
       "    </tr>\n",
       "    <tr>\n",
       "      <th>4</th>\n",
       "      <td>T1000005</td>\n",
       "      <td>250</td>\n",
       "      <td>S2</td>\n",
       "      <td>L3</td>\n",
       "      <td>R4</td>\n",
       "      <td>2018-01-01</td>\n",
       "      <td>1</td>\n",
       "      <td>Yes</td>\n",
       "      <td>62</td>\n",
       "      <td>45614.52</td>\n",
       "      <td>2018</td>\n",
       "      <td>1</td>\n",
       "      <td>1</td>\n",
       "      <td>0</td>\n",
       "      <td>1</td>\n",
       "      <td>1</td>\n",
       "      <td>1</td>\n",
       "      <td>1</td>\n",
       "      <td>1</td>\n",
       "      <td>0</td>\n",
       "      <td>1</td>\n",
       "      <td>0</td>\n",
       "      <td>1</td>\n",
       "      <td>0</td>\n",
       "      <td>1</td>\n",
       "      <td>1</td>\n",
       "      <td>31</td>\n",
       "    </tr>\n",
       "  </tbody>\n",
       "</table>\n",
       "</div>"
      ],
      "text/plain": [
       "         ID  Store_id Store_Type Location_Type Region_Code       Date  \\\n",
       "0  T1000001         1         S1            L3          R1 2018-01-01   \n",
       "1  T1000002       253         S4            L2          R1 2018-01-01   \n",
       "2  T1000003       252         S3            L2          R1 2018-01-01   \n",
       "3  T1000004       251         S2            L3          R1 2018-01-01   \n",
       "4  T1000005       250         S2            L3          R4 2018-01-01   \n",
       "\n",
       "   Holiday Discount  #Order     Sales  Year  Month  Day  Dayofweek  DayOfyear  \\\n",
       "0        1      Yes       9   7011.84  2018      1    1          0          1   \n",
       "1        1      Yes      60  51789.12  2018      1    1          0          1   \n",
       "2        1      Yes      42  36868.20  2018      1    1          0          1   \n",
       "3        1      Yes      23  19715.16  2018      1    1          0          1   \n",
       "4        1      Yes      62  45614.52  2018      1    1          0          1   \n",
       "\n",
       "   Week  Quarter  Is_week_start  Is_month_start  Is_month_end  \\\n",
       "0     1        1              1               1             0   \n",
       "1     1        1              1               1             0   \n",
       "2     1        1              1               1             0   \n",
       "3     1        1              1               1             0   \n",
       "4     1        1              1               1             0   \n",
       "\n",
       "   Is_quarter_start  Is_quarter_end  Is_year_start  Is_year_end  Semester  \\\n",
       "0                 1               0              1            0         1   \n",
       "1                 1               0              1            0         1   \n",
       "2                 1               0              1            0         1   \n",
       "3                 1               0              1            0         1   \n",
       "4                 1               0              1            0         1   \n",
       "\n",
       "   Is_weekday  Days_in_month  \n",
       "0           1             31  \n",
       "1           1             31  \n",
       "2           1             31  \n",
       "3           1             31  \n",
       "4           1             31  "
      ]
     },
     "execution_count": 28,
     "metadata": {},
     "output_type": "execute_result"
    }
   ],
   "source": [
    "train.head()"
   ]
  },
  {
   "cell_type": "code",
   "execution_count": 29,
   "id": "707ddddd",
   "metadata": {},
   "outputs": [],
   "source": [
    "# train['Stores_with_High_Sales'] = np.where(train.Store_id.isin([173,354,153,160,146,312,126,337,175]),1,0)\n",
    "# test['Stores_with_High_Sales'] = np.where(test.Store_id.isin([173,354,153,160,146,312,126,337,175]),1,0)\n",
    "\n",
    "# train['Stores_with_Low_Sales'] = np.where(train.Store_id.isin([83,67,71,77,289,136,216,186,98,79,226,88,62,293,310,230]),1,0)\n",
    "# test['Stores_with_Low_Sales'] = np.where(test.Store_id.isin([83,67,71,77,289,136,216,186,98,79,226,88,62,293,310,230]),1,0)"
   ]
  },
  {
   "cell_type": "code",
   "execution_count": 30,
   "id": "f4f76886",
   "metadata": {},
   "outputs": [],
   "source": [
    "train_x = train.loc[:,train.columns!='Sales']"
   ]
  },
  {
   "cell_type": "markdown",
   "id": "646923b9",
   "metadata": {},
   "source": [
    "### Creating Validation Set\n",
    "- Train set:- Data before April 2019\n",
    "- Validation Set:- Data After April 2019\n",
    "- KFold CV on train"
   ]
  },
  {
   "cell_type": "code",
   "execution_count": 31,
   "id": "1fec6143",
   "metadata": {},
   "outputs": [],
   "source": [
    "tr_x = train_x[train.Date<'2019-04-01']\n",
    "val_x = train_x[train.Date>='2019-04-01']\n",
    "tr_y = train[train.Date<'2019-04-01']['Sales']\n",
    "val_y = train[train.Date>='2019-04-01']['Sales']"
   ]
  },
  {
   "cell_type": "markdown",
   "id": "392e833c",
   "metadata": {},
   "source": [
    "### Generating New features from Order column"
   ]
  },
  {
   "cell_type": "code",
   "execution_count": 32,
   "id": "155afd29",
   "metadata": {},
   "outputs": [],
   "source": [
    "# Total Weekly orders based on store_type.\n",
    "abc = tr_x.groupby(['Store_Type','Week'])['#Order'].sum().reset_index()\n",
    "abc.columns = ['Store_Type','Week','Store_weekly_Orders']\n",
    "tr_x = tr_x.merge(abc, on = ['Store_Type','Week'], how = 'left')\n",
    "val_x = val_x.merge(abc, on = ['Store_Type','Week'], how = 'left')\n",
    "test = test.merge(abc, on = ['Store_Type','Week'], how = 'left')\n",
    "\n",
    "# Total orders on weekends of every week in a month based on store_type.\n",
    "abc = tr_x.groupby(['Store_Type','Week','Is_week_start'])['#Order'].sum().reset_index()\n",
    "abc.columns = ['Store_Type','Week','Is_week_start','Store_weekend_Orders']\n",
    "tr_x = tr_x.merge(abc, on = ['Store_Type','Week','Is_week_start'], how = 'left')\n",
    "val_x = val_x.merge(abc, on = ['Store_Type','Week','Is_week_start'], how = 'left')\n",
    "test = test.merge(abc, on = ['Store_Type','Week','Is_week_start'], how = 'left')\n",
    "\n",
    "# Total Orders in every week based on store_type & Location_id.\n",
    "abc = tr_x.groupby(['Store_Type','Location_Type','Week'])['#Order'].sum().reset_index()\n",
    "abc.columns = ['Store_Type','Location_Type','Week','Store_Location_weekly_Orders']\n",
    "tr_x = tr_x.merge(abc, on = ['Store_Type','Location_Type','Week'], how = 'left')\n",
    "val_x = val_x.merge(abc, on = ['Store_Type','Location_Type','Week'], how = 'left')\n",
    "test = test.merge(abc, on = ['Store_Type','Location_Type','Week'], how = 'left')\n",
    "\n",
    "# Total orders on weekends of every week in a month based on store_type & Location_id.\n",
    "abc = tr_x.groupby(['Store_Type','Location_Type','Week','Is_week_start'])['#Order'].sum().reset_index()\n",
    "abc.columns = ['Store_Type','Location_Type','Week','Is_week_start','Store_Location_weekend_Orders']\n",
    "tr_x = tr_x.merge(abc, on = ['Store_Type','Location_Type','Week','Is_week_start'], how = 'left')\n",
    "val_x = val_x.merge(abc, on = ['Store_Type','Location_Type','Week','Is_week_start'], how = 'left')\n",
    "test = test.merge(abc, on = ['Store_Type','Location_Type','Week','Is_week_start'], how = 'left')"
   ]
  },
  {
   "cell_type": "code",
   "execution_count": 33,
   "id": "62aa4d6d",
   "metadata": {},
   "outputs": [],
   "source": [
    "# New Features using Store_Id column & Orders:\n",
    "\n",
    "# Total Weekly orders by Stores.\n",
    "abc = tr_x.groupby(['Store_id','Week'])['#Order'].sum().reset_index()\n",
    "abc.columns = ['Store_id','Week','Storeid_weekly_Orders']\n",
    "tr_x = tr_x.merge(abc, on = ['Store_id','Week'], how = 'left')\n",
    "val_x = val_x.merge(abc, on = ['Store_id','Week'], how = 'left')\n",
    "test = test.merge(abc, on = ['Store_id','Week'], how = 'left')\n",
    "\n",
    "# Total orders on weekends of every week in a month based on store_type.\n",
    "abc = tr_x.groupby(['Store_id','Week','Is_week_start'])['#Order'].sum().reset_index()\n",
    "abc.columns = ['Store_id','Week','Is_week_start','Storeid_weekend_Orders']\n",
    "tr_x = tr_x.merge(abc, on = ['Store_id','Week','Is_week_start'], how = 'left')\n",
    "val_x = val_x.merge(abc, on = ['Store_id','Week','Is_week_start'], how = 'left')\n",
    "test = test.merge(abc, on = ['Store_id','Week','Is_week_start'], how = 'left')\n",
    "\n",
    "# Avg Weekly orders by Stores.\n",
    "abc = tr_x.groupby(['Store_id','Week'])['#Order'].mean().reset_index()\n",
    "abc.columns = ['Store_id','Week','Storeid_weekly_avgOrders']\n",
    "tr_x = tr_x.merge(abc, on = ['Store_id','Week'], how = 'left')\n",
    "val_x = val_x.merge(abc, on = ['Store_id','Week'], how = 'left')\n",
    "test = test.merge(abc, on = ['Store_id','Week'], how = 'left')\n",
    "\n",
    "# Avg orders on weekends of every week in a month based on store_type.\n",
    "abc = tr_x.groupby(['Store_id','Week','Is_week_start'])['#Order'].mean().reset_index()\n",
    "abc.columns = ['Store_id','Week','Is_week_start','Storeid_weekend_avgOrders']\n",
    "tr_x = tr_x.merge(abc, on = ['Store_id','Week','Is_week_start'], how = 'left')\n",
    "val_x = val_x.merge(abc, on = ['Store_id','Week','Is_week_start'], how = 'left')\n",
    "test = test.merge(abc, on = ['Store_id','Week','Is_week_start'], how = 'left')\n",
    "\n",
    "# Min Weekly orders by Stores.\n",
    "abc = tr_x.groupby(['Store_id','Week'])['#Order'].min().reset_index()\n",
    "abc.columns = ['Store_id','Week','Storeid_weekly_minOrders']\n",
    "tr_x = tr_x.merge(abc, on = ['Store_id','Week'], how = 'left')\n",
    "val_x = val_x.merge(abc, on = ['Store_id','Week'], how = 'left')\n",
    "test = test.merge(abc, on = ['Store_id','Week'], how = 'left')\n",
    "\n",
    "# min orders on weekends of every week in a month based on store_type.\n",
    "abc = tr_x.groupby(['Store_id','Week','Is_week_start'])['#Order'].min().reset_index()\n",
    "abc.columns = ['Store_id','Week','Is_week_start','Storeid_weekend_minOrders']\n",
    "tr_x = tr_x.merge(abc, on = ['Store_id','Week','Is_week_start'], how = 'left')\n",
    "val_x = val_x.merge(abc, on = ['Store_id','Week','Is_week_start'], how = 'left')\n",
    "test = test.merge(abc, on = ['Store_id','Week','Is_week_start'], how = 'left')\n",
    "\n",
    "# Max Weekly orders by Stores.\n",
    "abc = tr_x.groupby(['Store_id','Week'])['#Order'].max().reset_index()\n",
    "abc.columns = ['Store_id','Week','Storeid_weekly_maxOrders']\n",
    "tr_x = tr_x.merge(abc, on = ['Store_id','Week'], how = 'left')\n",
    "val_x = val_x.merge(abc, on = ['Store_id','Week'], how = 'left')\n",
    "test = test.merge(abc, on = ['Store_id','Week'], how = 'left')\n",
    "\n",
    "# max orders on weekends of every week in a month based on store_type.\n",
    "abc = tr_x.groupby(['Store_id','Week','Is_week_start'])['#Order'].max().reset_index()\n",
    "abc.columns = ['Store_id','Week','Is_week_start','Storeid_weekend_maxOrders']\n",
    "tr_x = tr_x.merge(abc, on = ['Store_id','Week','Is_week_start'], how = 'left')\n",
    "val_x = val_x.merge(abc, on = ['Store_id','Week','Is_week_start'], how = 'left')\n",
    "test = test.merge(abc, on = ['Store_id','Week','Is_week_start'], how = 'left')\n",
    "\n",
    "# Count of discounts offered by each store in every week\n",
    "abc = tr_x.groupby(['Store_id','Week'])['Discount'].count().reset_index()\n",
    "abc.columns = ['Store_id','Week','Storeid_week_discount_count']\n",
    "tr_x = tr_x.merge(abc, on = ['Store_id','Week'], how = 'left')\n",
    "val_x = val_x.merge(abc, on = ['Store_id','Week'], how = 'left')\n",
    "test = test.merge(abc, on = ['Store_id','Week'], how = 'left')\n",
    "\n",
    "# Count of discounts offered by each store in every month\n",
    "abc = tr_x.groupby(['Store_id','Month'])['Discount'].count().reset_index()\n",
    "abc.columns = ['Store_id','Month','Storeid_Month_discount_count']\n",
    "tr_x = tr_x.merge(abc, on = ['Store_id','Month'], how = 'left')\n",
    "val_x = val_x.merge(abc, on = ['Store_id','Month'], how = 'left')\n",
    "test = test.merge(abc, on = ['Store_id','Month'], how = 'left')\n",
    "\n",
    "# Count of discounts on weekends of every week in a month for every store.\n",
    "abc = tr_x.groupby(['Store_id','Week','Is_week_start'])['Discount'].count().reset_index()\n",
    "abc.columns = ['Store_id','Week','Is_week_start','Storeid_weekend_Discount_count']\n",
    "tr_x = tr_x.merge(abc, on = ['Store_id','Week','Is_week_start'], how = 'left')\n",
    "val_x = val_x.merge(abc, on = ['Store_id','Week','Is_week_start'], how = 'left')\n",
    "test = test.merge(abc, on = ['Store_id','Week','Is_week_start'], how = 'left')"
   ]
  },
  {
   "cell_type": "markdown",
   "id": "1b2ad6ef",
   "metadata": {},
   "source": [
    "### Feature Scaling"
   ]
  },
  {
   "cell_type": "code",
   "execution_count": 34,
   "id": "2411803f",
   "metadata": {},
   "outputs": [
    {
     "name": "stdout",
     "output_type": "stream",
     "text": [
      "<class 'pandas.core.frame.DataFrame'>\n",
      "Int64Index: 166075 entries, 0 to 166074\n",
      "Data columns (total 41 columns):\n",
      " #   Column                          Non-Null Count   Dtype         \n",
      "---  ------                          --------------   -----         \n",
      " 0   ID                              166075 non-null  object        \n",
      " 1   Store_id                        166075 non-null  int64         \n",
      " 2   Store_Type                      166075 non-null  object        \n",
      " 3   Location_Type                   166075 non-null  object        \n",
      " 4   Region_Code                     166075 non-null  object        \n",
      " 5   Date                            166075 non-null  datetime64[ns]\n",
      " 6   Holiday                         166075 non-null  int64         \n",
      " 7   Discount                        166075 non-null  object        \n",
      " 8   #Order                          166075 non-null  int64         \n",
      " 9   Year                            166075 non-null  int64         \n",
      " 10  Month                           166075 non-null  int64         \n",
      " 11  Day                             166075 non-null  int64         \n",
      " 12  Dayofweek                       166075 non-null  int64         \n",
      " 13  DayOfyear                       166075 non-null  int64         \n",
      " 14  Week                            166075 non-null  int64         \n",
      " 15  Quarter                         166075 non-null  int64         \n",
      " 16  Is_week_start                   166075 non-null  int32         \n",
      " 17  Is_month_start                  166075 non-null  int32         \n",
      " 18  Is_month_end                    166075 non-null  int32         \n",
      " 19  Is_quarter_start                166075 non-null  int32         \n",
      " 20  Is_quarter_end                  166075 non-null  int32         \n",
      " 21  Is_year_start                   166075 non-null  int32         \n",
      " 22  Is_year_end                     166075 non-null  int32         \n",
      " 23  Semester                        166075 non-null  int32         \n",
      " 24  Is_weekday                      166075 non-null  int32         \n",
      " 25  Days_in_month                   166075 non-null  int64         \n",
      " 26  Store_weekly_Orders             166075 non-null  int64         \n",
      " 27  Store_weekend_Orders            166075 non-null  int64         \n",
      " 28  Store_Location_weekly_Orders    166075 non-null  int64         \n",
      " 29  Store_Location_weekend_Orders   166075 non-null  int64         \n",
      " 30  Storeid_weekly_Orders           166075 non-null  int64         \n",
      " 31  Storeid_weekend_Orders          166075 non-null  int64         \n",
      " 32  Storeid_weekly_avgOrders        166075 non-null  float64       \n",
      " 33  Storeid_weekend_avgOrders       166075 non-null  float64       \n",
      " 34  Storeid_weekly_minOrders        166075 non-null  int64         \n",
      " 35  Storeid_weekend_minOrders       166075 non-null  int64         \n",
      " 36  Storeid_weekly_maxOrders        166075 non-null  int64         \n",
      " 37  Storeid_weekend_maxOrders       166075 non-null  int64         \n",
      " 38  Storeid_week_discount_count     166075 non-null  int64         \n",
      " 39  Storeid_Month_discount_count    166075 non-null  int64         \n",
      " 40  Storeid_weekend_Discount_count  166075 non-null  int64         \n",
      "dtypes: datetime64[ns](1), float64(2), int32(9), int64(24), object(5)\n",
      "memory usage: 47.5+ MB\n"
     ]
    }
   ],
   "source": [
    "tr_x.info()"
   ]
  },
  {
   "cell_type": "code",
   "execution_count": 37,
   "id": "4b08dd0c",
   "metadata": {},
   "outputs": [
    {
     "name": "stdout",
     "output_type": "stream",
     "text": [
      "#Order\n",
      "Store_id\n",
      "Year\n",
      "Month\n",
      "Day\n",
      "DayOfyear\n",
      "Dayofweek\n",
      "Week\n",
      "Quarter\n",
      "Is_week_start\n",
      "Is_month_start\n",
      "Is_month_end\n",
      "Is_quarter_start\n",
      "Is_quarter_end\n",
      "Is_year_start\n",
      "Is_year_end\n",
      "Semester\n",
      "Is_weekday\n",
      "Days_in_month\n"
     ]
    }
   ],
   "source": [
    "numcols = list(tr_x.select_dtypes(exclude = 'object').columns)\n",
    "for i in ['#Order','Store_id','Year','Month','Day','DayOfyear','Dayofweek','Week','Quarter'\n",
    "         ,'Is_week_start','Is_month_start','Is_month_end','Is_quarter_start','Is_quarter_end','Is_year_start',\n",
    "          'Is_year_end','Semester','Is_weekday','Days_in_month']:\n",
    "    print(i)\n",
    "    numcols.remove(i)\n",
    "numcols.remove('Date')"
   ]
  },
  {
   "cell_type": "code",
   "execution_count": 38,
   "id": "73b16efb",
   "metadata": {},
   "outputs": [],
   "source": [
    "from sklearn.preprocessing import MinMaxScaler\n",
    "\n",
    "scaler = MinMaxScaler()\n",
    "scaler.fit(tr_x[numcols])\n",
    "tr_x[numcols] = scaler.transform(tr_x[numcols])\n",
    "val_x[numcols] = scaler.transform(val_x[numcols])\n",
    "test[numcols] = scaler.transform(test[numcols])"
   ]
  },
  {
   "cell_type": "code",
   "execution_count": 39,
   "id": "64798bce",
   "metadata": {},
   "outputs": [
    {
     "data": {
      "text/html": [
       "<div>\n",
       "<style scoped>\n",
       "    .dataframe tbody tr th:only-of-type {\n",
       "        vertical-align: middle;\n",
       "    }\n",
       "\n",
       "    .dataframe tbody tr th {\n",
       "        vertical-align: top;\n",
       "    }\n",
       "\n",
       "    .dataframe thead th {\n",
       "        text-align: right;\n",
       "    }\n",
       "</style>\n",
       "<table border=\"1\" class=\"dataframe\">\n",
       "  <thead>\n",
       "    <tr style=\"text-align: right;\">\n",
       "      <th></th>\n",
       "      <th>ID</th>\n",
       "      <th>Store_id</th>\n",
       "      <th>Store_Type</th>\n",
       "      <th>Location_Type</th>\n",
       "      <th>Region_Code</th>\n",
       "      <th>Date</th>\n",
       "      <th>Holiday</th>\n",
       "      <th>Discount</th>\n",
       "      <th>#Order</th>\n",
       "      <th>Year</th>\n",
       "      <th>Month</th>\n",
       "      <th>Day</th>\n",
       "      <th>Dayofweek</th>\n",
       "      <th>DayOfyear</th>\n",
       "      <th>Week</th>\n",
       "      <th>Quarter</th>\n",
       "      <th>Is_week_start</th>\n",
       "      <th>Is_month_start</th>\n",
       "      <th>Is_month_end</th>\n",
       "      <th>Is_quarter_start</th>\n",
       "      <th>Is_quarter_end</th>\n",
       "      <th>Is_year_start</th>\n",
       "      <th>Is_year_end</th>\n",
       "      <th>Semester</th>\n",
       "      <th>Is_weekday</th>\n",
       "      <th>Days_in_month</th>\n",
       "      <th>Store_weekly_Orders</th>\n",
       "      <th>Store_weekend_Orders</th>\n",
       "      <th>Store_Location_weekly_Orders</th>\n",
       "      <th>Store_Location_weekend_Orders</th>\n",
       "      <th>Storeid_weekly_Orders</th>\n",
       "      <th>Storeid_weekend_Orders</th>\n",
       "      <th>Storeid_weekly_avgOrders</th>\n",
       "      <th>Storeid_weekend_avgOrders</th>\n",
       "      <th>Storeid_weekly_minOrders</th>\n",
       "      <th>Storeid_weekend_minOrders</th>\n",
       "      <th>Storeid_weekly_maxOrders</th>\n",
       "      <th>Storeid_weekend_maxOrders</th>\n",
       "      <th>Storeid_week_discount_count</th>\n",
       "      <th>Storeid_Month_discount_count</th>\n",
       "      <th>Storeid_weekend_Discount_count</th>\n",
       "    </tr>\n",
       "  </thead>\n",
       "  <tbody>\n",
       "    <tr>\n",
       "      <th>0</th>\n",
       "      <td>T1000001</td>\n",
       "      <td>1</td>\n",
       "      <td>S1</td>\n",
       "      <td>L3</td>\n",
       "      <td>R1</td>\n",
       "      <td>2018-01-01</td>\n",
       "      <td>1.0</td>\n",
       "      <td>Yes</td>\n",
       "      <td>9</td>\n",
       "      <td>2018</td>\n",
       "      <td>1</td>\n",
       "      <td>1</td>\n",
       "      <td>0</td>\n",
       "      <td>1</td>\n",
       "      <td>1</td>\n",
       "      <td>1</td>\n",
       "      <td>1</td>\n",
       "      <td>1</td>\n",
       "      <td>0</td>\n",
       "      <td>1</td>\n",
       "      <td>0</td>\n",
       "      <td>1</td>\n",
       "      <td>0</td>\n",
       "      <td>1</td>\n",
       "      <td>1</td>\n",
       "      <td>31</td>\n",
       "      <td>0.888297</td>\n",
       "      <td>0.126830</td>\n",
       "      <td>0.269059</td>\n",
       "      <td>0.042746</td>\n",
       "      <td>0.239836</td>\n",
       "      <td>0.029098</td>\n",
       "      <td>0.160671</td>\n",
       "      <td>0.121575</td>\n",
       "      <td>0.044335</td>\n",
       "      <td>0.030822</td>\n",
       "      <td>0.158879</td>\n",
       "      <td>0.178674</td>\n",
       "      <td>1.0</td>\n",
       "      <td>1.0</td>\n",
       "      <td>0.090909</td>\n",
       "    </tr>\n",
       "    <tr>\n",
       "      <th>1</th>\n",
       "      <td>T1000002</td>\n",
       "      <td>253</td>\n",
       "      <td>S4</td>\n",
       "      <td>L2</td>\n",
       "      <td>R1</td>\n",
       "      <td>2018-01-01</td>\n",
       "      <td>1.0</td>\n",
       "      <td>Yes</td>\n",
       "      <td>60</td>\n",
       "      <td>2018</td>\n",
       "      <td>1</td>\n",
       "      <td>1</td>\n",
       "      <td>0</td>\n",
       "      <td>1</td>\n",
       "      <td>1</td>\n",
       "      <td>1</td>\n",
       "      <td>1</td>\n",
       "      <td>1</td>\n",
       "      <td>0</td>\n",
       "      <td>1</td>\n",
       "      <td>0</td>\n",
       "      <td>1</td>\n",
       "      <td>0</td>\n",
       "      <td>1</td>\n",
       "      <td>1</td>\n",
       "      <td>31</td>\n",
       "      <td>0.756667</td>\n",
       "      <td>0.086692</td>\n",
       "      <td>0.862713</td>\n",
       "      <td>0.110169</td>\n",
       "      <td>0.404700</td>\n",
       "      <td>0.067623</td>\n",
       "      <td>0.293165</td>\n",
       "      <td>0.282534</td>\n",
       "      <td>0.295567</td>\n",
       "      <td>0.205479</td>\n",
       "      <td>0.246106</td>\n",
       "      <td>0.302594</td>\n",
       "      <td>1.0</td>\n",
       "      <td>1.0</td>\n",
       "      <td>0.090909</td>\n",
       "    </tr>\n",
       "    <tr>\n",
       "      <th>2</th>\n",
       "      <td>T1000003</td>\n",
       "      <td>252</td>\n",
       "      <td>S3</td>\n",
       "      <td>L2</td>\n",
       "      <td>R1</td>\n",
       "      <td>2018-01-01</td>\n",
       "      <td>1.0</td>\n",
       "      <td>Yes</td>\n",
       "      <td>42</td>\n",
       "      <td>2018</td>\n",
       "      <td>1</td>\n",
       "      <td>1</td>\n",
       "      <td>0</td>\n",
       "      <td>1</td>\n",
       "      <td>1</td>\n",
       "      <td>1</td>\n",
       "      <td>1</td>\n",
       "      <td>1</td>\n",
       "      <td>0</td>\n",
       "      <td>1</td>\n",
       "      <td>0</td>\n",
       "      <td>1</td>\n",
       "      <td>0</td>\n",
       "      <td>1</td>\n",
       "      <td>1</td>\n",
       "      <td>31</td>\n",
       "      <td>0.254562</td>\n",
       "      <td>0.028707</td>\n",
       "      <td>0.166792</td>\n",
       "      <td>0.021059</td>\n",
       "      <td>0.321522</td>\n",
       "      <td>0.043852</td>\n",
       "      <td>0.226319</td>\n",
       "      <td>0.183219</td>\n",
       "      <td>0.206897</td>\n",
       "      <td>0.143836</td>\n",
       "      <td>0.242991</td>\n",
       "      <td>0.187320</td>\n",
       "      <td>1.0</td>\n",
       "      <td>1.0</td>\n",
       "      <td>0.090909</td>\n",
       "    </tr>\n",
       "    <tr>\n",
       "      <th>3</th>\n",
       "      <td>T1000004</td>\n",
       "      <td>251</td>\n",
       "      <td>S2</td>\n",
       "      <td>L3</td>\n",
       "      <td>R1</td>\n",
       "      <td>2018-01-01</td>\n",
       "      <td>1.0</td>\n",
       "      <td>Yes</td>\n",
       "      <td>23</td>\n",
       "      <td>2018</td>\n",
       "      <td>1</td>\n",
       "      <td>1</td>\n",
       "      <td>0</td>\n",
       "      <td>1</td>\n",
       "      <td>1</td>\n",
       "      <td>1</td>\n",
       "      <td>1</td>\n",
       "      <td>1</td>\n",
       "      <td>0</td>\n",
       "      <td>1</td>\n",
       "      <td>0</td>\n",
       "      <td>1</td>\n",
       "      <td>0</td>\n",
       "      <td>1</td>\n",
       "      <td>1</td>\n",
       "      <td>31</td>\n",
       "      <td>0.161279</td>\n",
       "      <td>0.025197</td>\n",
       "      <td>0.097463</td>\n",
       "      <td>0.016254</td>\n",
       "      <td>0.176427</td>\n",
       "      <td>0.026230</td>\n",
       "      <td>0.109712</td>\n",
       "      <td>0.109589</td>\n",
       "      <td>0.113300</td>\n",
       "      <td>0.078767</td>\n",
       "      <td>0.109034</td>\n",
       "      <td>0.118156</td>\n",
       "      <td>1.0</td>\n",
       "      <td>1.0</td>\n",
       "      <td>0.090909</td>\n",
       "    </tr>\n",
       "    <tr>\n",
       "      <th>4</th>\n",
       "      <td>T1000005</td>\n",
       "      <td>250</td>\n",
       "      <td>S2</td>\n",
       "      <td>L3</td>\n",
       "      <td>R4</td>\n",
       "      <td>2018-01-01</td>\n",
       "      <td>1.0</td>\n",
       "      <td>Yes</td>\n",
       "      <td>62</td>\n",
       "      <td>2018</td>\n",
       "      <td>1</td>\n",
       "      <td>1</td>\n",
       "      <td>0</td>\n",
       "      <td>1</td>\n",
       "      <td>1</td>\n",
       "      <td>1</td>\n",
       "      <td>1</td>\n",
       "      <td>1</td>\n",
       "      <td>0</td>\n",
       "      <td>1</td>\n",
       "      <td>0</td>\n",
       "      <td>1</td>\n",
       "      <td>0</td>\n",
       "      <td>1</td>\n",
       "      <td>1</td>\n",
       "      <td>31</td>\n",
       "      <td>0.161279</td>\n",
       "      <td>0.025197</td>\n",
       "      <td>0.097463</td>\n",
       "      <td>0.016254</td>\n",
       "      <td>0.197687</td>\n",
       "      <td>0.043033</td>\n",
       "      <td>0.126799</td>\n",
       "      <td>0.179795</td>\n",
       "      <td>0.162562</td>\n",
       "      <td>0.147260</td>\n",
       "      <td>0.112150</td>\n",
       "      <td>0.178674</td>\n",
       "      <td>1.0</td>\n",
       "      <td>1.0</td>\n",
       "      <td>0.090909</td>\n",
       "    </tr>\n",
       "  </tbody>\n",
       "</table>\n",
       "</div>"
      ],
      "text/plain": [
       "         ID  Store_id Store_Type Location_Type Region_Code       Date  \\\n",
       "0  T1000001         1         S1            L3          R1 2018-01-01   \n",
       "1  T1000002       253         S4            L2          R1 2018-01-01   \n",
       "2  T1000003       252         S3            L2          R1 2018-01-01   \n",
       "3  T1000004       251         S2            L3          R1 2018-01-01   \n",
       "4  T1000005       250         S2            L3          R4 2018-01-01   \n",
       "\n",
       "   Holiday Discount  #Order  Year  Month  Day  Dayofweek  DayOfyear  Week  \\\n",
       "0      1.0      Yes       9  2018      1    1          0          1     1   \n",
       "1      1.0      Yes      60  2018      1    1          0          1     1   \n",
       "2      1.0      Yes      42  2018      1    1          0          1     1   \n",
       "3      1.0      Yes      23  2018      1    1          0          1     1   \n",
       "4      1.0      Yes      62  2018      1    1          0          1     1   \n",
       "\n",
       "   Quarter  Is_week_start  Is_month_start  Is_month_end  Is_quarter_start  \\\n",
       "0        1              1               1             0                 1   \n",
       "1        1              1               1             0                 1   \n",
       "2        1              1               1             0                 1   \n",
       "3        1              1               1             0                 1   \n",
       "4        1              1               1             0                 1   \n",
       "\n",
       "   Is_quarter_end  Is_year_start  Is_year_end  Semester  Is_weekday  \\\n",
       "0               0              1            0         1           1   \n",
       "1               0              1            0         1           1   \n",
       "2               0              1            0         1           1   \n",
       "3               0              1            0         1           1   \n",
       "4               0              1            0         1           1   \n",
       "\n",
       "   Days_in_month  Store_weekly_Orders  Store_weekend_Orders  \\\n",
       "0             31             0.888297              0.126830   \n",
       "1             31             0.756667              0.086692   \n",
       "2             31             0.254562              0.028707   \n",
       "3             31             0.161279              0.025197   \n",
       "4             31             0.161279              0.025197   \n",
       "\n",
       "   Store_Location_weekly_Orders  Store_Location_weekend_Orders  \\\n",
       "0                      0.269059                       0.042746   \n",
       "1                      0.862713                       0.110169   \n",
       "2                      0.166792                       0.021059   \n",
       "3                      0.097463                       0.016254   \n",
       "4                      0.097463                       0.016254   \n",
       "\n",
       "   Storeid_weekly_Orders  Storeid_weekend_Orders  Storeid_weekly_avgOrders  \\\n",
       "0               0.239836                0.029098                  0.160671   \n",
       "1               0.404700                0.067623                  0.293165   \n",
       "2               0.321522                0.043852                  0.226319   \n",
       "3               0.176427                0.026230                  0.109712   \n",
       "4               0.197687                0.043033                  0.126799   \n",
       "\n",
       "   Storeid_weekend_avgOrders  Storeid_weekly_minOrders  \\\n",
       "0                   0.121575                  0.044335   \n",
       "1                   0.282534                  0.295567   \n",
       "2                   0.183219                  0.206897   \n",
       "3                   0.109589                  0.113300   \n",
       "4                   0.179795                  0.162562   \n",
       "\n",
       "   Storeid_weekend_minOrders  Storeid_weekly_maxOrders  \\\n",
       "0                   0.030822                  0.158879   \n",
       "1                   0.205479                  0.246106   \n",
       "2                   0.143836                  0.242991   \n",
       "3                   0.078767                  0.109034   \n",
       "4                   0.147260                  0.112150   \n",
       "\n",
       "   Storeid_weekend_maxOrders  Storeid_week_discount_count  \\\n",
       "0                   0.178674                          1.0   \n",
       "1                   0.302594                          1.0   \n",
       "2                   0.187320                          1.0   \n",
       "3                   0.118156                          1.0   \n",
       "4                   0.178674                          1.0   \n",
       "\n",
       "   Storeid_Month_discount_count  Storeid_weekend_Discount_count  \n",
       "0                           1.0                        0.090909  \n",
       "1                           1.0                        0.090909  \n",
       "2                           1.0                        0.090909  \n",
       "3                           1.0                        0.090909  \n",
       "4                           1.0                        0.090909  "
      ]
     },
     "execution_count": 39,
     "metadata": {},
     "output_type": "execute_result"
    }
   ],
   "source": [
    "tr_x.head()"
   ]
  },
  {
   "cell_type": "markdown",
   "id": "1388dd02",
   "metadata": {},
   "source": [
    "## Feature Encoding"
   ]
  },
  {
   "cell_type": "code",
   "execution_count": 40,
   "id": "8e3898ed",
   "metadata": {},
   "outputs": [],
   "source": [
    "# One Hot Encoding\n",
    "l = ['Store_Type','Location_Type','Region_Code']\n",
    "tr_x = pd.get_dummies(tr_x, columns = l,drop_first=True)\n",
    "val_x = pd.get_dummies(val_x, columns = l,drop_first=True)\n",
    "test = pd.get_dummies(test, columns = l,drop_first=True)"
   ]
  },
  {
   "cell_type": "code",
   "execution_count": 41,
   "id": "aa245601",
   "metadata": {},
   "outputs": [],
   "source": [
    "tr_x['Discount'] = tr_x['Discount'].replace({'Yes':1,'No':0})\n",
    "val_x['Discount'] = val_x['Discount'].replace({'Yes':1,'No':0})\n",
    "test['Discount'] = test['Discount'].replace({'Yes':1,'No':0})"
   ]
  },
  {
   "cell_type": "code",
   "execution_count": 42,
   "id": "72613985",
   "metadata": {},
   "outputs": [],
   "source": [
    "test.drop(columns = ['ID','Date'],inplace = True)"
   ]
  },
  {
   "cell_type": "code",
   "execution_count": 43,
   "id": "87333b48",
   "metadata": {},
   "outputs": [],
   "source": [
    "tr_x = tr_x.drop(columns = ['ID','#Order','Date'])\n",
    "val_x = val_x.drop(columns = ['ID','#Order','Date'])"
   ]
  },
  {
   "cell_type": "code",
   "execution_count": 44,
   "id": "7084813b",
   "metadata": {},
   "outputs": [
    {
     "data": {
      "text/plain": [
       "45"
      ]
     },
     "execution_count": 44,
     "metadata": {},
     "output_type": "execute_result"
    }
   ],
   "source": [
    "len(tr_x.columns)"
   ]
  },
  {
   "cell_type": "markdown",
   "id": "ae92e607",
   "metadata": {},
   "source": [
    "## Model Building"
   ]
  },
  {
   "cell_type": "code",
   "execution_count": 45,
   "id": "11aa7c7a",
   "metadata": {},
   "outputs": [],
   "source": [
    "val_score = []"
   ]
  },
  {
   "cell_type": "code",
   "execution_count": 46,
   "id": "77bb1949",
   "metadata": {},
   "outputs": [
    {
     "name": "stdout",
     "output_type": "stream",
     "text": [
      "Validation_Score:  104.15966911586796 Train Score:  84.365680439081\n"
     ]
    }
   ],
   "source": [
    "# Linear Regresion\n",
    "from sklearn.linear_model import LinearRegression\n",
    "reg = LinearRegression()\n",
    "reg.fit(tr_x, tr_y)\n",
    "valid_pred = reg.predict(val_x) ; train_pred = reg.predict(tr_x)\n",
    "validation_score = mean_squared_log_error(val_y,np.absolute(valid_pred))*1000\n",
    "val_score.append(validation_score)\n",
    "train_score = mean_squared_log_error(tr_y,np.absolute(train_pred))*1000\n",
    "print(\"Validation_Score: \",validation_score,\"Train Score: \",train_score)"
   ]
  },
  {
   "cell_type": "code",
   "execution_count": 47,
   "id": "c3044243",
   "metadata": {},
   "outputs": [
    {
     "name": "stdout",
     "output_type": "stream",
     "text": [
      "Validation_Score:  107.87549580575141 Train Score:  34.94978823755782\n"
     ]
    }
   ],
   "source": [
    "# Decision Tree\n",
    "\n",
    "from sklearn.tree import DecisionTreeRegressor\n",
    "dtree = DecisionTreeRegressor(max_depth = 12)\n",
    "dtree.fit(tr_x, tr_y)\n",
    "valid_pred = dtree.predict(val_x) ; train_pred = dtree.predict(tr_x)\n",
    "validation_score = mean_squared_log_error(val_y,np.absolute(valid_pred))*1000\n",
    "val_score.append(validation_score)\n",
    "train_score = mean_squared_log_error(tr_y,np.absolute(train_pred))*1000\n",
    "print(\"Validation_Score: \",validation_score,\"Train Score: \",train_score)"
   ]
  },
  {
   "cell_type": "code",
   "execution_count": 48,
   "id": "9a1652b2",
   "metadata": {},
   "outputs": [
    {
     "name": "stdout",
     "output_type": "stream",
     "text": [
      "Validation_Score:  105.44584610689517 Train Score:  11.222524574033994\n"
     ]
    }
   ],
   "source": [
    "# RandomForest\n",
    "\n",
    "from sklearn.ensemble import RandomForestRegressor\n",
    "rf = RandomForestRegressor()\n",
    "rf.fit(tr_x, tr_y)\n",
    "valid_pred = rf.predict(val_x) ; train_pred = rf.predict(tr_x)\n",
    "validation_score = mean_squared_log_error(val_y,np.absolute(valid_pred))*1000\n",
    "val_score.append(validation_score)\n",
    "train_score = mean_squared_log_error(tr_y,np.absolute(train_pred))*1000\n",
    "print(\"Validation_Score: \",validation_score,\"Train Score: \",train_score)"
   ]
  },
  {
   "cell_type": "code",
   "execution_count": 49,
   "id": "13a173a4",
   "metadata": {},
   "outputs": [
    {
     "name": "stdout",
     "output_type": "stream",
     "text": [
      "Validation_Score:  146.25169239754885 Train Score:  155.8171719388564\n"
     ]
    }
   ],
   "source": [
    "# AdaBoost\n",
    "\n",
    "from sklearn.ensemble import AdaBoostRegressor\n",
    "ad = AdaBoostRegressor()\n",
    "ad.fit(tr_x, tr_y)\n",
    "valid_pred = ad.predict(val_x) ; train_pred = ad.predict(tr_x)\n",
    "validation_score = mean_squared_log_error(val_y,valid_pred)*1000\n",
    "val_score.append(validation_score)\n",
    "train_score = mean_squared_log_error(tr_y,train_pred)*1000\n",
    "print(\"Validation_Score: \",validation_score,\"Train Score: \",train_score)"
   ]
  },
  {
   "cell_type": "code",
   "execution_count": 50,
   "id": "be9033ac",
   "metadata": {},
   "outputs": [
    {
     "name": "stdout",
     "output_type": "stream",
     "text": [
      "Validation_Score:  102.18598116728776 Train Score:  36.97855395662679\n"
     ]
    }
   ],
   "source": [
    "# XGBoost\n",
    "\n",
    "from xgboost import XGBRegressor\n",
    "xgr = XGBRegressor()\n",
    "xgr.fit(tr_x, tr_y)\n",
    "valid_pred = xgr.predict(val_x) ; train_pred = xgr.predict(tr_x)\n",
    "validation_score = mean_squared_log_error(val_y,np.absolute(valid_pred))*1000\n",
    "val_score.append(validation_score)\n",
    "train_score = mean_squared_log_error(tr_y,np.absolute(train_pred))*1000\n",
    "print(\"Validation_Score: \",validation_score,\"Train Score: \",train_score)"
   ]
  },
  {
   "cell_type": "code",
   "execution_count": 51,
   "id": "e2687249",
   "metadata": {},
   "outputs": [
    {
     "name": "stdout",
     "output_type": "stream",
     "text": [
      "Validation_Score:  97.97446562035019 Train Score:  45.04085165235012\n"
     ]
    }
   ],
   "source": [
    "# LightGBM\n",
    "\n",
    "from lightgbm import LGBMRegressor,plot_importance,plot_tree\n",
    "lgb = LGBMRegressor(n_estimators = 100,learning_rate = 0.1,min_child_samples=20,subsample=1.0,colsample_bytree=1.0,num_leaves=20)\n",
    "lgb.fit(tr_x, tr_y)\n",
    "valid_pred = lgb.predict(val_x) ; train_pred = lgb.predict(tr_x)\n",
    "validation_score = mean_squared_log_error(val_y,np.absolute(valid_pred))*1000\n",
    "val_score.append(validation_score)\n",
    "train_score = mean_squared_log_error(tr_y,np.absolute(train_pred))*1000\n",
    "print(\"Validation_Score: \",validation_score,\"Train Score: \",train_score)"
   ]
  },
  {
   "cell_type": "code",
   "execution_count": 55,
   "id": "0a20a16a",
   "metadata": {},
   "outputs": [
    {
     "data": {
      "text/plain": [
       "[104.15966911586796,\n",
       " 107.87549580575141,\n",
       " 105.44584610689517,\n",
       " 146.25169239754885,\n",
       " 102.18598116728776,\n",
       " 97.97446562035019]"
      ]
     },
     "execution_count": 55,
     "metadata": {},
     "output_type": "execute_result"
    }
   ],
   "source": [
    "val_score"
   ]
  },
  {
   "cell_type": "code",
   "execution_count": 56,
   "id": "d59cb652",
   "metadata": {},
   "outputs": [
    {
     "data": {
      "text/html": [
       "<div>\n",
       "<style scoped>\n",
       "    .dataframe tbody tr th:only-of-type {\n",
       "        vertical-align: middle;\n",
       "    }\n",
       "\n",
       "    .dataframe tbody tr th {\n",
       "        vertical-align: top;\n",
       "    }\n",
       "\n",
       "    .dataframe thead th {\n",
       "        text-align: right;\n",
       "    }\n",
       "</style>\n",
       "<table border=\"1\" class=\"dataframe\">\n",
       "  <thead>\n",
       "    <tr style=\"text-align: right;\">\n",
       "      <th></th>\n",
       "      <th>Models</th>\n",
       "      <th>MSLE</th>\n",
       "    </tr>\n",
       "  </thead>\n",
       "  <tbody>\n",
       "    <tr>\n",
       "      <th>0</th>\n",
       "      <td>LinearRegression</td>\n",
       "      <td>104.159669</td>\n",
       "    </tr>\n",
       "    <tr>\n",
       "      <th>1</th>\n",
       "      <td>DecisionTree</td>\n",
       "      <td>107.875496</td>\n",
       "    </tr>\n",
       "    <tr>\n",
       "      <th>2</th>\n",
       "      <td>RandomForest</td>\n",
       "      <td>105.445846</td>\n",
       "    </tr>\n",
       "    <tr>\n",
       "      <th>3</th>\n",
       "      <td>AdaBoost</td>\n",
       "      <td>146.251692</td>\n",
       "    </tr>\n",
       "    <tr>\n",
       "      <th>4</th>\n",
       "      <td>XGBoost</td>\n",
       "      <td>102.185981</td>\n",
       "    </tr>\n",
       "    <tr>\n",
       "      <th>5</th>\n",
       "      <td>LightGBM</td>\n",
       "      <td>97.974466</td>\n",
       "    </tr>\n",
       "  </tbody>\n",
       "</table>\n",
       "</div>"
      ],
      "text/plain": [
       "             Models        MSLE\n",
       "0  LinearRegression  104.159669\n",
       "1      DecisionTree  107.875496\n",
       "2      RandomForest  105.445846\n",
       "3          AdaBoost  146.251692\n",
       "4           XGBoost  102.185981\n",
       "5          LightGBM   97.974466"
      ]
     },
     "execution_count": 56,
     "metadata": {},
     "output_type": "execute_result"
    }
   ],
   "source": [
    "# Compare Models\n",
    "compare = pd.DataFrame({'Models':['LinearRegression','DecisionTree','RandomForest','AdaBoost','XGBoost','LightGBM'],'MSLE':val_score})\n",
    "compare"
   ]
  },
  {
   "cell_type": "code",
   "execution_count": 67,
   "id": "f992037a",
   "metadata": {},
   "outputs": [
    {
     "data": {
      "image/png": "[encoded data removed]",
      "text/plain": [
       "<Figure size 720x360 with 1 Axes>"
      ]
     },
     "metadata": {
      "needs_background": "light"
     },
     "output_type": "display_data"
    }
   ],
   "source": [
    "plt.subplots(figsize=(10,5))\n",
    "plt.plot(compare.Models,compare.MSLE,marker = '.')\n",
    "\n",
    "# plt.legend()\n",
    "\n",
    "for x,y in zip(compare.Models,compare.MSLE):\n",
    "\n",
    "    label = \"{:.2f}\".format(y)\n",
    "\n",
    "    plt.annotate(label, # this is the text\n",
    "                 (x,y), # these are the coordinates to position the label\n",
    "                 textcoords=\"offset points\",\n",
    "                xytext=(0,1)) \n",
    "\n",
    "plt.xticks(fontsize=10)\n",
    "plt.yticks( fontsize=10)\n",
    "plt.xlabel('Models')\n",
    "plt.ylabel('MSLE')\n",
    "plt.show()"
   ]
  },
  {
   "cell_type": "code",
   "execution_count": 71,
   "id": "aeece9d4",
   "metadata": {},
   "outputs": [
    {
     "data": {
      "text/plain": [
       "<AxesSubplot:title={'center':'Feature importance'}, xlabel='Feature importance', ylabel='Features'>"
      ]
     },
     "execution_count": 71,
     "metadata": {},
     "output_type": "execute_result"
    },
    {
     "data": {
      "image/png": "[encoded data removed]",
      "text/plain": [
       "<Figure size 800x800 with 1 Axes>"
      ]
     },
     "metadata": {
      "needs_background": "light"
     },
     "output_type": "display_data"
    }
   ],
   "source": [
    "plot_importance(lgb, height = 0.7, dpi =80, figsize = (10,10))"
   ]
  },
  {
   "cell_type": "code",
   "execution_count": null,
   "id": "bfe5f886",
   "metadata": {},
   "outputs": [],
   "source": [
    "tr2_x = tr_x.copy()\n",
    "tr2_y = pd.DataFrame(tr_y.copy())\n",
    "tr2_y['Year'] = tr2_x['Year']\n",
    "tr2_y['DayOfyear'] = tr2_x['DayOfyear']\n",
    "\n",
    "tr2_y['Prediciton'] = train_pred"
   ]
  },
  {
   "cell_type": "code",
   "execution_count": 27,
   "id": "5f87502b",
   "metadata": {},
   "outputs": [],
   "source": [
    "val2_x = val_x.copy()\n",
    "val2_y = pd.DataFrame(val_y.copy())\n",
    "val2_y['Year'] = val_x['Year']\n",
    "val2_y['DayOfyear'] = val_x['DayOfyear']\n",
    "\n",
    "val2_y['Prediciton'] = valid_pred"
   ]
  },
  {
   "cell_type": "code",
   "execution_count": 28,
   "id": "b5f9019d",
   "metadata": {},
   "outputs": [
    {
     "data": {
      "text/plain": [
       "[<matplotlib.lines.Line2D at 0x26acc218688>]"
      ]
     },
     "execution_count": 28,
     "metadata": {},
     "output_type": "execute_result"
    },
    {
     "data": {
      "image/png": "[encoded data removed]",
      "text/plain": [
       "<Figure size 1584x576 with 1 Axes>"
      ]
     },
     "metadata": {
      "needs_background": "light"
     },
     "output_type": "display_data"
    }
   ],
   "source": [
    "# To compare actual & Predicted values.\n",
    "Daily_Sales_2018 = tr2_y[tr2_y.Year == 2018].groupby('DayOfyear')['Sales'].median()\n",
    "pred_Daily_Sales_2018 = tr2_y[tr2_y.Year == 2018].groupby('DayOfyear')['Prediciton'].median()\n",
    "#Daily_Sales_2019 = train[train.Year == 2019].groupby('DayOfyear')['Sales'].median()\n",
    "\n",
    "\n",
    "plt.figure(figsize=(22,8))\n",
    "plt.plot(Daily_Sales_2018.index, Daily_Sales_2018.values)\n",
    "plt.plot(pred_Daily_Sales_2018.index, pred_Daily_Sales_2018.values)"
   ]
  },
  {
   "cell_type": "markdown",
   "id": "d459eb94",
   "metadata": {},
   "source": [
    "## KFold Cross Validation"
   ]
  },
  {
   "cell_type": "code",
   "execution_count": 70,
   "id": "a974bff4",
   "metadata": {},
   "outputs": [
    {
     "name": "stdout",
     "output_type": "stream",
     "text": [
      "For CV =  1\n",
      "Validation_Score:  42.34599893415937 Train Score:  46.01057857989701\n",
      "For CV =  2\n",
      "Validation_Score:  42.595192892277325 Train Score:  45.87844467065255\n",
      "For CV =  3\n",
      "Validation_Score:  46.917154800008966 Train Score:  46.276670191095214\n",
      "For CV =  4\n",
      "Validation_Score:  53.3367262704725 Train Score:  43.475591374766395\n",
      "For CV =  5\n",
      "Validation_Score:  44.84353622843254 Train Score:  45.16742269515519\n",
      "Mean MSLE for Validation:  46.00772182507014 \n",
      "Mean MSLE for TrainData:  45.36174150231327\n"
     ]
    }
   ],
   "source": [
    "# KFOLD Cross Validation\n",
    "\n",
    "# KFold Cross Validation\n",
    "from sklearn.model_selection import KFold\n",
    "Kfolds = KFold(n_splits=5, shuffle = True , random_state = 100)\n",
    "i = 1\n",
    "val_score = []\n",
    "train_score = []\n",
    "prediction_test = []\n",
    "\n",
    "for train_index,val_index in Kfolds.split(tr_x, tr_y):\n",
    "    x_train , x_val = tr_x.iloc[train_index], tr_x.iloc[val_index]\n",
    "    y_train , y_val = tr_y.iloc[train_index], tr_y.iloc[val_index]\n",
    "    \n",
    "    lgbm = LGBMRegressor(n_estimators = 100,learning_rate = 0.1,min_child_samples=20,subsample=1.0,colsample_bytree=1.0,num_leaves=20)\n",
    "    lgbm.fit(x_train, y_train)\n",
    "    valid_pred = lgbm.predict(x_val) ; train_pred = lgbm.predict(x_train)\n",
    "    test_pred = lgbm.predict(test)\n",
    "    valid_score = mean_squared_log_error(y_val,np.absolute(valid_pred))*1000\n",
    "    traindata_score = mean_squared_log_error(y_train,np.absolute(train_pred))*1000\n",
    "    \n",
    "    print(\"For CV = \",i)\n",
    "    print(\"Validation_Score: \",valid_score,\"Train Score: \",traindata_score)\n",
    "    i = i+1\n",
    "    val_score.append(valid_score) ; train_score.append(traindata_score)\n",
    "    prediction_test.append(test_pred)\n",
    "    \n",
    "print(\"Mean MSLE for Validation: \",np.mean(val_score),\"\\nMean MSLE for TrainData: \",np.mean(train_score))"
   ]
  },
  {
   "cell_type": "markdown",
   "id": "e4e2cd16",
   "metadata": {},
   "source": [
    "## Submission"
   ]
  },
  {
   "cell_type": "code",
   "execution_count": 114,
   "id": "68de539d",
   "metadata": {},
   "outputs": [],
   "source": [
    "sub = pd.read_csv(r\"E:\\Data science\\DataHack\\Analytics Vidhya\\Job_a_thon_170921\\SAMPLE.csv\")"
   ]
  },
  {
   "cell_type": "code",
   "execution_count": 115,
   "id": "3be324fe",
   "metadata": {},
   "outputs": [
    {
     "data": {
      "text/html": [
       "<div>\n",
       "<style scoped>\n",
       "    .dataframe tbody tr th:only-of-type {\n",
       "        vertical-align: middle;\n",
       "    }\n",
       "\n",
       "    .dataframe tbody tr th {\n",
       "        vertical-align: top;\n",
       "    }\n",
       "\n",
       "    .dataframe thead th {\n",
       "        text-align: right;\n",
       "    }\n",
       "</style>\n",
       "<table border=\"1\" class=\"dataframe\">\n",
       "  <thead>\n",
       "    <tr style=\"text-align: right;\">\n",
       "      <th></th>\n",
       "      <th>ID</th>\n",
       "      <th>Sales</th>\n",
       "    </tr>\n",
       "  </thead>\n",
       "  <tbody>\n",
       "    <tr>\n",
       "      <th>0</th>\n",
       "      <td>T1188341</td>\n",
       "      <td>42275</td>\n",
       "    </tr>\n",
       "    <tr>\n",
       "      <th>1</th>\n",
       "      <td>T1188342</td>\n",
       "      <td>42275</td>\n",
       "    </tr>\n",
       "    <tr>\n",
       "      <th>2</th>\n",
       "      <td>T1188343</td>\n",
       "      <td>42275</td>\n",
       "    </tr>\n",
       "    <tr>\n",
       "      <th>3</th>\n",
       "      <td>T1188344</td>\n",
       "      <td>42275</td>\n",
       "    </tr>\n",
       "    <tr>\n",
       "      <th>4</th>\n",
       "      <td>T1188345</td>\n",
       "      <td>42275</td>\n",
       "    </tr>\n",
       "  </tbody>\n",
       "</table>\n",
       "</div>"
      ],
      "text/plain": [
       "         ID  Sales\n",
       "0  T1188341  42275\n",
       "1  T1188342  42275\n",
       "2  T1188343  42275\n",
       "3  T1188344  42275\n",
       "4  T1188345  42275"
      ]
     },
     "execution_count": 115,
     "metadata": {},
     "output_type": "execute_result"
    }
   ],
   "source": [
    "sub.head()"
   ]
  },
  {
   "cell_type": "code",
   "execution_count": 39,
   "id": "4650aa37",
   "metadata": {},
   "outputs": [],
   "source": [
    "sub['Sales'] = np.absolute(lgb.predict(test))"
   ]
  },
  {
   "cell_type": "code",
   "execution_count": 116,
   "id": "3c4c3a20",
   "metadata": {},
   "outputs": [],
   "source": [
    "sub['Sales'] =  pd.DataFrame({1:prediction_test[0],2:prediction_test[1],3:prediction_test[2],4:prediction_test[3],5:prediction_test[4]}).mean(axis = 1)"
   ]
  },
  {
   "cell_type": "code",
   "execution_count": 121,
   "id": "580a8a48",
   "metadata": {},
   "outputs": [],
   "source": [
    "# sub['Sales'] = xgr.predict(test)"
   ]
  },
  {
   "cell_type": "code",
   "execution_count": 117,
   "id": "93ea67cb",
   "metadata": {},
   "outputs": [
    {
     "data": {
      "text/html": [
       "<div>\n",
       "<style scoped>\n",
       "    .dataframe tbody tr th:only-of-type {\n",
       "        vertical-align: middle;\n",
       "    }\n",
       "\n",
       "    .dataframe tbody tr th {\n",
       "        vertical-align: top;\n",
       "    }\n",
       "\n",
       "    .dataframe thead th {\n",
       "        text-align: right;\n",
       "    }\n",
       "</style>\n",
       "<table border=\"1\" class=\"dataframe\">\n",
       "  <thead>\n",
       "    <tr style=\"text-align: right;\">\n",
       "      <th></th>\n",
       "      <th>ID</th>\n",
       "      <th>Sales</th>\n",
       "    </tr>\n",
       "  </thead>\n",
       "  <tbody>\n",
       "    <tr>\n",
       "      <th>0</th>\n",
       "      <td>T1188341</td>\n",
       "      <td>64462.109935</td>\n",
       "    </tr>\n",
       "    <tr>\n",
       "      <th>1</th>\n",
       "      <td>T1188342</td>\n",
       "      <td>45236.621150</td>\n",
       "    </tr>\n",
       "    <tr>\n",
       "      <th>2</th>\n",
       "      <td>T1188343</td>\n",
       "      <td>75225.425413</td>\n",
       "    </tr>\n",
       "    <tr>\n",
       "      <th>3</th>\n",
       "      <td>T1188344</td>\n",
       "      <td>40137.937598</td>\n",
       "    </tr>\n",
       "    <tr>\n",
       "      <th>4</th>\n",
       "      <td>T1188345</td>\n",
       "      <td>43753.997026</td>\n",
       "    </tr>\n",
       "  </tbody>\n",
       "</table>\n",
       "</div>"
      ],
      "text/plain": [
       "         ID         Sales\n",
       "0  T1188341  64462.109935\n",
       "1  T1188342  45236.621150\n",
       "2  T1188343  75225.425413\n",
       "3  T1188344  40137.937598\n",
       "4  T1188345  43753.997026"
      ]
     },
     "execution_count": 117,
     "metadata": {},
     "output_type": "execute_result"
    }
   ],
   "source": [
    "sub.head()"
   ]
  },
  {
   "cell_type": "code",
   "execution_count": 118,
   "id": "bf21540a",
   "metadata": {},
   "outputs": [
    {
     "data": {
      "text/plain": [
       "0"
      ]
     },
     "execution_count": 118,
     "metadata": {},
     "output_type": "execute_result"
    }
   ],
   "source": [
    "len(sub[sub['Sales']<0])"
   ]
  },
  {
   "cell_type": "code",
   "execution_count": 119,
   "id": "c9783466",
   "metadata": {},
   "outputs": [],
   "source": [
    "sub.to_csv('Retail_Store_Sales14.csv', index=False)"
   ]
  }
 ],
 "metadata": {
  "kernelspec": {
   "display_name": "Python 3",
   "language": "python",
   "name": "python3"
  },
  "language_info": {
   "codemirror_mode": {
    "name": "ipython",
    "version": 3
   },
   "file_extension": ".py",
   "mimetype": "text/x-python",
   "name": "python",
   "nbconvert_exporter": "python",
   "pygments_lexer": "ipython3",
   "version": "3.7.10"
  }
 },
 "nbformat": 4,
 "nbformat_minor": 5
}
